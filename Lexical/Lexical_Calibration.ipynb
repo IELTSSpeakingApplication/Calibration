{
  "cells": [
    {
      "cell_type": "markdown",
      "source": [
        "[![Open In Colab](https://colab.research.google.com/assets/colab-badge.svg)](https://colab.research.google.com/drive/1RJVZEO7A3otz5JXsnQ5Yw0b3i6YtgoJ0?usp=sharing)"
      ],
      "metadata": {
        "id": "L0kHOSjoU9Ti"
      }
    },
    {
      "cell_type": "markdown",
      "metadata": {
        "id": "pNim60LIpB7K"
      },
      "source": [
        "# *Preparation*\n",
        "---"
      ]
    },
    {
      "cell_type": "code",
      "execution_count": null,
      "metadata": {
        "id": "lyo68BD0BBg7"
      },
      "outputs": [],
      "source": [
        "# Install library\n",
        "%%capture\n",
        "!pip install transformers\n",
        "!pip install scikit-plot"
      ]
    },
    {
      "cell_type": "code",
      "execution_count": null,
      "metadata": {
        "id": "M9ZxS9zhsfUe"
      },
      "outputs": [],
      "source": [
        "# Import library\n",
        "import pandas as pd\n",
        "import numpy as np\n",
        "import string\n",
        "import matplotlib.pyplot as plt\n",
        "import seaborn as sns\n",
        "import scikitplot as skplt\n",
        "import tensorflow as tf\n",
        "from tensorflow.keras import backend as K\n",
        "from transformers import DistilBertTokenizerFast, DistilBertConfig, TFDistilBertModel"
      ]
    },
    {
      "cell_type": "markdown",
      "metadata": {
        "id": "mPHwQTGY2FxT"
      },
      "source": [
        "# *Dataset Initialization*\n",
        "---"
      ]
    },
    {
      "cell_type": "code",
      "execution_count": null,
      "metadata": {
        "id": "gcLtHK5Wf69L"
      },
      "outputs": [],
      "source": [
        "# Identifikasi string punctuation dan panjang kolom pandas\n",
        "string.punctuation\n",
        "pd.set_option(\"display.max_colwidth\", None)"
      ]
    },
    {
      "cell_type": "code",
      "source": [
        "# Inisialisasi link dataset\n",
        "csv_x_train_url = \"https://raw.githubusercontent.com/RayWilliam46/FineTune-DistilBERT/main/data/processed/balanced_dataset/X_train_aug.csv\"\n",
        "csv_y_train_url = \"https://raw.githubusercontent.com/RayWilliam46/FineTune-DistilBERT/main/data/processed/balanced_dataset/y_train_aug.csv\"\n",
        "csv_x_val_url = \"https://raw.githubusercontent.com/RayWilliam46/FineTune-DistilBERT/main/data/processed/balanced_dataset/X_valid_aug.csv\"\n",
        "csv_y_val_url = \"https://raw.githubusercontent.com/RayWilliam46/FineTune-DistilBERT/main/data/processed/balanced_dataset/y_valid_aug.csv\"\n",
        "csv_test_url = \"https://raw.githubusercontent.com/RayWilliam46/FineTune-DistilBERT/main/data/processed/test_merged.csv\""
      ],
      "metadata": {
        "id": "EdjRl--nmfHo"
      },
      "execution_count": null,
      "outputs": []
    },
    {
      "cell_type": "code",
      "source": [
        "# Load training data\n",
        "df_x_train = pd.read_csv(csv_x_train_url)\n",
        "df_x_val = pd.read_csv(csv_x_val_url)\n",
        "df_y_train = pd.read_csv(csv_y_train_url)\n",
        "df_y_val = pd.read_csv(csv_y_val_url)\n",
        "\n",
        "# Definisi variabel training data\n",
        "X_train = df_x_train[\"comment_text\"]\n",
        "X_valid = df_x_val[\"comment_text\"]\n",
        "y_train = df_y_train[\"isToxic\"]\n",
        "y_valid = df_y_val[\"isToxic\"]\n",
        "\n",
        "# Load test data\n",
        "df_test = pd.read_csv(csv_test_url)\n",
        "\n",
        "# Definisi variabel test data\n",
        "X_test = df_test[\"comment_text\"]\n",
        "y_test = df_test[\"isToxic\"]\n",
        "\n",
        "# Check data\n",
        "print(\"Jumlah training data    \", len(X_train.index), \" baris.\")\n",
        "print(\"Jumlah validation data  \", len(X_valid.index), \" baris.\")\n",
        "print(\"Jumlah test data        \", len(X_test.index), \" baris.\")"
      ],
      "metadata": {
        "colab": {
          "base_uri": "https://localhost:8080/"
        },
        "id": "rrbbIQYOmIbr",
        "outputId": "0996f26b-de5a-415b-d889-19dfc6a20cc1"
      },
      "execution_count": null,
      "outputs": [
        {
          "output_type": "stream",
          "name": "stdout",
          "text": [
            "Jumlah training data     97417  baris.\n",
            "Jumlah validation data   24355  baris.\n",
            "Jumlah test data         63978  baris.\n"
          ]
        }
      ]
    },
    {
      "cell_type": "code",
      "source": [
        "print(type(X_train))\n",
        "print(type(X_valid))\n",
        "print(type(y_train))\n",
        "print(type(y_valid))\n",
        "print(type(X_test))\n",
        "print(type(y_test))"
      ],
      "metadata": {
        "colab": {
          "base_uri": "https://localhost:8080/"
        },
        "id": "y--ZrHNnrgb9",
        "outputId": "ca0dbee7-860e-4a71-942c-3109a55466ea"
      },
      "execution_count": null,
      "outputs": [
        {
          "output_type": "stream",
          "name": "stdout",
          "text": [
            "<class 'pandas.core.series.Series'>\n",
            "<class 'pandas.core.series.Series'>\n",
            "<class 'pandas.core.series.Series'>\n",
            "<class 'pandas.core.series.Series'>\n",
            "<class 'pandas.core.series.Series'>\n",
            "<class 'pandas.core.series.Series'>\n"
          ]
        }
      ]
    },
    {
      "cell_type": "markdown",
      "metadata": {
        "id": "3fT_MaCYScz3"
      },
      "source": [
        "# *Variabel and Function Definition*\n",
        "---"
      ]
    },
    {
      "cell_type": "code",
      "source": [
        "# Definisi fariabel\n",
        "params = {\"MAX_LENGTH\": 128,\n",
        "          \"EPOCHS\": 10,\n",
        "          \"LEARNING_RATE\": 1e-5,\n",
        "          \"FT_EPOCHS\": 5,\n",
        "          'FT_LEARNING_RATE': 1e-6,\n",
        "          \"OPTIMIZER\": \"adam\",\n",
        "          \"FL_GAMMA\": 2.0,\n",
        "          \"FL_ALPHA\": 0.2,\n",
        "          \"BATCH_SIZE\": 64,\n",
        "          \"VERBOSE\": 2,\n",
        "          \"NUM_STEPS\": len(X_train.index) // 64,\n",
        "          \"DISTILBERT_DROPOUT\": 0.2,\n",
        "          \"DISTILBERT_ATT_DROPOUT\": 0.2,\n",
        "          \"LAYER_DROPOUT\": 0.2,\n",
        "          \"DENSE_ACTIVATION\": \"tanh\",\n",
        "          \"OUTPUT_ACTIVATION\": \"sigmoid\",\n",
        "          \"DENSE_BIAS\": \"zeros\",\n",
        "          \"KERNEL_INITIALIZER\": \"GlorotNormal\",\n",
        "          \"BIAS_INITIALIZER\": \"zeros\",\n",
        "          \"POS_PROBA_THRESHOLD\": 0.5,          \n",
        "          \"ADDED_LAYERS\": \"Dense 256, Dense 128, Dense 32, Dropout 0.2\",\n",
        "          \"LR_SCHEDULE\": \"1e-5 for 10 epochs, Fine-tune w/ adam for 5 epochs @1e-6\",\n",
        "          \"FREEZING\": \"All DistilBERT layers frozen for 10 epochs, then unfrozen for 5\",\n",
        "          \"RANDOM_STATE\": 42,\n",
        "          }"
      ],
      "metadata": {
        "id": "ZSLdPUqDdG3K"
      },
      "execution_count": null,
      "outputs": []
    },
    {
      "cell_type": "code",
      "source": [
        "# Definisi fungsi encoding\n",
        "def batch_encode(tokenizer, texts, batch_size=256, max_length=params[\"MAX_LENGTH\"]):\n",
        "    input_ids = []\n",
        "    attention_mask = []\n",
        "    \n",
        "    for i in range(0, len(texts), batch_size):\n",
        "        batch = texts[i:i+batch_size]\n",
        "        inputs = tokenizer.batch_encode_plus(batch,\n",
        "                                             max_length=max_length,\n",
        "                                             padding=\"longest\",\n",
        "                                             truncation=True,\n",
        "                                             return_attention_mask=True,\n",
        "                                             return_token_type_ids=False\n",
        "                                             )\n",
        "        print(type(inputs))\n",
        "        print(type(inputs[\"input_ids\"]))\n",
        "        print(type(inputs[\"attention_mask\"]))\n",
        "        input_ids.extend(inputs[\"input_ids\"])\n",
        "        attention_mask.extend(inputs[\"attention_mask\"])\n",
        "    \n",
        "    \n",
        "    print(type(input_ids))\n",
        "    print(type(attention_mask))\n",
        "    print(type(input_ids[0]))\n",
        "    print(type(attention_mask[0]))\n",
        "    print(input_ids[0])\n",
        "    print(attention_mask[0])\n",
        "    return tf.convert_to_tensor(input_ids), tf.convert_to_tensor(attention_mask)"
      ],
      "metadata": {
        "id": "FOxuPfzGbeS6"
      },
      "execution_count": null,
      "outputs": []
    },
    {
      "cell_type": "markdown",
      "source": [
        "# Visualisasi *dataset*\n",
        "---"
      ],
      "metadata": {
        "id": "gUW16YtTouAm"
      }
    },
    {
      "cell_type": "code",
      "execution_count": null,
      "metadata": {
        "id": "7a8dg6NFgVGP"
      },
      "outputs": [],
      "source": [
        "# Fungsi menghapus tanda baca\n",
        "def remove_punctuation(text):\n",
        "    punctuationfree = \"\".join([i for i in text if i not in string.punctuation])\n",
        "\n",
        "    return punctuationfree"
      ]
    },
    {
      "cell_type": "code",
      "execution_count": null,
      "metadata": {
        "id": "iydGiKY_hKrT"
      },
      "outputs": [],
      "source": [
        "# Fungsi mengapus tanda unik\n",
        "def remove_trailing(text):\n",
        "    trailingfree1 = text.replace(\"\\n\",\"\")\n",
        "    trailingfree2 = trailingfree1.replace(\"\\r\",\"\")\n",
        "    trailingfree3 = trailingfree2.replace(\"\\t\",\"\")\n",
        "    trailingfree4 = trailingfree3.replace(\"—\",\"\")\n",
        "    \n",
        "    return trailingfree4"
      ]
    },
    {
      "cell_type": "code",
      "execution_count": null,
      "metadata": {
        "id": "RuLJxiLWTT3U"
      },
      "outputs": [],
      "source": [
        "# Fungsi menampilkan jumlah distribusi kata\n",
        "def word_dist(data):\n",
        "    plt.figure(figsize=(8, 8))\n",
        "\n",
        "    sns.displot(data)\n",
        "\n",
        "    plt.xlim(0, 1000)\n",
        "\n",
        "    plt.xlabel(\"Jumlah kata \", fontsize=16)\n",
        "    plt.title(\"Jumlah distribusi kata \", fontsize=18)\n",
        "    plt.show()"
      ]
    },
    {
      "cell_type": "code",
      "execution_count": null,
      "metadata": {
        "colab": {
          "base_uri": "https://localhost:8080/",
          "height": 443
        },
        "id": "LWGzxck7zHCT",
        "outputId": "eb11254d-7068-46ed-9537-8e884cda0b91"
      },
      "outputs": [
        {
          "data": {
            "text/plain": [
              "<Axes: >"
            ]
          },
          "execution_count": 13,
          "metadata": {},
          "output_type": "execute_result"
        },
        {
          "data": {
            "image/png": "[encoded data removed]",
            "text/plain": [
              "<Figure size 640x480 with 1 Axes>"
            ]
          },
          "metadata": {},
          "output_type": "display_data"
        }
      ],
      "source": [
        "# Visualisasi distribusi data training di kolom \"isToxic\"\n",
        "df_y_train[\"isToxic\"].value_counts().plot.bar()"
      ]
    },
    {
      "cell_type": "code",
      "execution_count": null,
      "metadata": {
        "colab": {
          "base_uri": "https://localhost:8080/",
          "height": 1000
        },
        "id": "NgOm_iHQgddR",
        "outputId": "98c124c2-4c71-4cdd-db7f-824f91174994"
      },
      "outputs": [
        {
          "data": {
            "text/html": [
              "\n",
              "  <div id=\"df-5b23b270-b9aa-44f1-9767-31d24a4aa03a\">\n",
              "    <div class=\"colab-df-container\">\n",
              "      <div>\n",
              "<style scoped>\n",
              "    .dataframe tbody tr th:only-of-type {\n",
              "        vertical-align: middle;\n",
              "    }\n",
              "\n",
              "    .dataframe tbody tr th {\n",
              "        vertical-align: top;\n",
              "    }\n",
              "\n",
              "    .dataframe thead th {\n",
              "        text-align: right;\n",
              "    }\n",
              "</style>\n",
              "<table border=\"1\" class=\"dataframe\">\n",
              "  <thead>\n",
              "    <tr style=\"text-align: right;\">\n",
              "      <th></th>\n",
              "      <th>comment_text</th>\n",
              "      <th>clean_punct_comment_text</th>\n",
              "      <th>clean_trail_comment_text</th>\n",
              "      <th>clean_lower_comment_text</th>\n",
              "      <th>count</th>\n",
              "    </tr>\n",
              "  </thead>\n",
              "  <tbody>\n",
              "    <tr>\n",
              "      <th>0</th>\n",
              "      <td>\"\\nThat can easily fit in the \"\"singles\"\" section of the album article.— \"</td>\n",
              "      <td>\\nThat can easily fit in the singles section of the album article—</td>\n",
              "      <td>That can easily fit in the singles section of the album article</td>\n",
              "      <td>that can easily fit in the singles section of the album article</td>\n",
              "      <td>12</td>\n",
              "    </tr>\n",
              "    <tr>\n",
              "      <th>1</th>\n",
              "      <td>High gravity as a substitute for high speed relatistic time dilation effect \\n\\nFrom the article:\\n\\nUsing time dilation under the Theory of General Relativity, for instance: \\nResiding inside of a hollow, high-mass object; \\n\\nAre you sure this is accurate?  I was under the impression that according to the shell theorem, the net gravity inside a hollow, symmetrical sphere was zero.  If the hollow object isn't symmetrical, there could be some gravity inside, but in that case it would be no different from (and probably less efficient than) standing on the outside of a high-mass object.</td>\n",
              "      <td>High gravity as a substitute for high speed relatistic time dilation effect \\n\\nFrom the article\\n\\nUsing time dilation under the Theory of General Relativity for instance \\nResiding inside of a hollow highmass object \\n\\nAre you sure this is accurate  I was under the impression that according to the shell theorem the net gravity inside a hollow symmetrical sphere was zero  If the hollow object isnt symmetrical there could be some gravity inside but in that case it would be no different from and probably less efficient than standing on the outside of a highmass object</td>\n",
              "      <td>High gravity as a substitute for high speed relatistic time dilation effect From the articleUsing time dilation under the Theory of General Relativity for instance Residing inside of a hollow highmass object Are you sure this is accurate  I was under the impression that according to the shell theorem the net gravity inside a hollow symmetrical sphere was zero  If the hollow object isnt symmetrical there could be some gravity inside but in that case it would be no different from and probably less efficient than standing on the outside of a highmass object</td>\n",
              "      <td>high gravity as a substitute for high speed relatistic time dilation effect from the articleusing time dilation under the theory of general relativity for instance residing inside of a hollow highmass object are you sure this is accurate  i was under the impression that according to the shell theorem the net gravity inside a hollow symmetrical sphere was zero  if the hollow object isnt symmetrical there could be some gravity inside but in that case it would be no different from and probably less efficient than standing on the outside of a highmass object</td>\n",
              "      <td>94</td>\n",
              "    </tr>\n",
              "    <tr>\n",
              "      <th>2</th>\n",
              "      <td>god pisses off go piss of butt, now just know that you just heard me that i will use a fork to take and destroy the eyes and take out your fuckin! blood, so just piss off butt, piss off but, i said piss off butt, last chance : piss off butt!, that's it, i will kill you, pow, so see that, you are dead and i will stab you now, penis, dick, boobs, breasts, poo.</td>\n",
              "      <td>god pisses off go piss of butt now just know that you just heard me that i will use a fork to take and destroy the eyes and take out your fuckin blood so just piss off butt piss off but i said piss off butt last chance  piss off butt thats it i will kill you pow so see that you are dead and i will stab you now penis dick boobs breasts poo</td>\n",
              "      <td>god pisses off go piss of butt now just know that you just heard me that i will use a fork to take and destroy the eyes and take out your fuckin blood so just piss off butt piss off but i said piss off butt last chance  piss off butt thats it i will kill you pow so see that you are dead and i will stab you now penis dick boobs breasts poo</td>\n",
              "      <td>god pisses off go piss of butt now just know that you just heard me that i will use a fork to take and destroy the eyes and take out your fuckin blood so just piss off butt piss off but i said piss off butt last chance  piss off butt thats it i will kill you pow so see that you are dead and i will stab you now penis dick boobs breasts poo</td>\n",
              "      <td>75</td>\n",
              "    </tr>\n",
              "    <tr>\n",
              "      <th>3</th>\n",
              "      <td>Actions speak louder than words, Commodore.  You can show that you are there to contribute by actually contributing—-making the definition better.</td>\n",
              "      <td>Actions speak louder than words Commodore  You can show that you are there to contribute by actually contributing—making the definition better</td>\n",
              "      <td>Actions speak louder than words Commodore  You can show that you are there to contribute by actually contributingmaking the definition better</td>\n",
              "      <td>actions speak louder than words commodore  you can show that you are there to contribute by actually contributingmaking the definition better</td>\n",
              "      <td>21</td>\n",
              "    </tr>\n",
              "    <tr>\n",
              "      <th>4</th>\n",
              "      <td>(even knowledgeable and experienced neutral editors)</td>\n",
              "      <td>even knowledgeable and experienced neutral editors</td>\n",
              "      <td>even knowledgeable and experienced neutral editors</td>\n",
              "      <td>even knowledgeable and experienced neutral editors</td>\n",
              "      <td>6</td>\n",
              "    </tr>\n",
              "  </tbody>\n",
              "</table>\n",
              "</div>\n",
              "      <button class=\"colab-df-convert\" onclick=\"convertToInteractive('df-5b23b270-b9aa-44f1-9767-31d24a4aa03a')\"\n",
              "              title=\"Convert this dataframe to an interactive table.\"\n",
              "              style=\"display:none;\">\n",
              "        \n",
              "  <svg xmlns=\"http://www.w3.org/2000/svg\" height=\"24px\"viewBox=\"0 0 24 24\"\n",
              "       width=\"24px\">\n",
              "    <path d=\"M0 0h24v24H0V0z\" fill=\"none\"/>\n",
              "    <path d=\"M18.56 5.44l.94 2.06.94-2.06 2.06-.94-2.06-.94-.94-2.06-.94 2.06-2.06.94zm-11 1L8.5 8.5l.94-2.06 2.06-.94-2.06-.94L8.5 2.5l-.94 2.06-2.06.94zm10 10l.94 2.06.94-2.06 2.06-.94-2.06-.94-.94-2.06-.94 2.06-2.06.94z\"/><path d=\"M17.41 7.96l-1.37-1.37c-.4-.4-.92-.59-1.43-.59-.52 0-1.04.2-1.43.59L10.3 9.45l-7.72 7.72c-.78.78-.78 2.05 0 2.83L4 21.41c.39.39.9.59 1.41.59.51 0 1.02-.2 1.41-.59l7.78-7.78 2.81-2.81c.8-.78.8-2.07 0-2.86zM5.41 20L4 18.59l7.72-7.72 1.47 1.35L5.41 20z\"/>\n",
              "  </svg>\n",
              "      </button>\n",
              "      \n",
              "  <style>\n",
              "    .colab-df-container {\n",
              "      display:flex;\n",
              "      flex-wrap:wrap;\n",
              "      gap: 12px;\n",
              "    }\n",
              "\n",
              "    .colab-df-convert {\n",
              "      background-color: #E8F0FE;\n",
              "      border: none;\n",
              "      border-radius: 50%;\n",
              "      cursor: pointer;\n",
              "      display: none;\n",
              "      fill: #1967D2;\n",
              "      height: 32px;\n",
              "      padding: 0 0 0 0;\n",
              "      width: 32px;\n",
              "    }\n",
              "\n",
              "    .colab-df-convert:hover {\n",
              "      background-color: #E2EBFA;\n",
              "      box-shadow: 0px 1px 2px rgba(60, 64, 67, 0.3), 0px 1px 3px 1px rgba(60, 64, 67, 0.15);\n",
              "      fill: #174EA6;\n",
              "    }\n",
              "\n",
              "    [theme=dark] .colab-df-convert {\n",
              "      background-color: #3B4455;\n",
              "      fill: #D2E3FC;\n",
              "    }\n",
              "\n",
              "    [theme=dark] .colab-df-convert:hover {\n",
              "      background-color: #434B5C;\n",
              "      box-shadow: 0px 1px 3px 1px rgba(0, 0, 0, 0.15);\n",
              "      filter: drop-shadow(0px 1px 2px rgba(0, 0, 0, 0.3));\n",
              "      fill: #FFFFFF;\n",
              "    }\n",
              "  </style>\n",
              "\n",
              "      <script>\n",
              "        const buttonEl =\n",
              "          document.querySelector('#df-5b23b270-b9aa-44f1-9767-31d24a4aa03a button.colab-df-convert');\n",
              "        buttonEl.style.display =\n",
              "          google.colab.kernel.accessAllowed ? 'block' : 'none';\n",
              "\n",
              "        async function convertToInteractive(key) {\n",
              "          const element = document.querySelector('#df-5b23b270-b9aa-44f1-9767-31d24a4aa03a');\n",
              "          const dataTable =\n",
              "            await google.colab.kernel.invokeFunction('convertToInteractive',\n",
              "                                                     [key], {});\n",
              "          if (!dataTable) return;\n",
              "\n",
              "          const docLinkHtml = 'Like what you see? Visit the ' +\n",
              "            '<a target=\"_blank\" href=https://colab.research.google.com/notebooks/data_table.ipynb>data table notebook</a>'\n",
              "            + ' to learn more about interactive tables.';\n",
              "          element.innerHTML = '';\n",
              "          dataTable['output_type'] = 'display_data';\n",
              "          await google.colab.output.renderOutput(dataTable, element);\n",
              "          const docLink = document.createElement('div');\n",
              "          docLink.innerHTML = docLinkHtml;\n",
              "          element.appendChild(docLink);\n",
              "        }\n",
              "      </script>\n",
              "    </div>\n",
              "  </div>\n",
              "  "
            ],
            "text/plain": [
              "                                                                                                                                                                                                                                                                                                                                                                                                                                                                                                                                                                                                      comment_text  \\\n",
              "0                                                                                                                                                                                                                                                                                                                                                                                                                                                                                                                                       \"\\nThat can easily fit in the \"\"singles\"\" section of the album article.— \"   \n",
              "1  High gravity as a substitute for high speed relatistic time dilation effect \\n\\nFrom the article:\\n\\nUsing time dilation under the Theory of General Relativity, for instance: \\nResiding inside of a hollow, high-mass object; \\n\\nAre you sure this is accurate?  I was under the impression that according to the shell theorem, the net gravity inside a hollow, symmetrical sphere was zero.  If the hollow object isn't symmetrical, there could be some gravity inside, but in that case it would be no different from (and probably less efficient than) standing on the outside of a high-mass object.   \n",
              "2                                                                                                                                                                                                                                         god pisses off go piss of butt, now just know that you just heard me that i will use a fork to take and destroy the eyes and take out your fuckin! blood, so just piss off butt, piss off but, i said piss off butt, last chance : piss off butt!, that's it, i will kill you, pow, so see that, you are dead and i will stab you now, penis, dick, boobs, breasts, poo.   \n",
              "3                                                                                                                                                                                                                                                                                                                                                                                                                                                               Actions speak louder than words, Commodore.  You can show that you are there to contribute by actually contributing—-making the definition better.   \n",
              "4                                                                                                                                                                                                                                                                                                                                                                                                                                                                                                                                                             (even knowledgeable and experienced neutral editors)   \n",
              "\n",
              "                                                                                                                                                                                                                                                                                                                                                                                                                                                                                                                                                                         clean_punct_comment_text  \\\n",
              "0                                                                                                                                                                                                                                                                                                                                                                                                                                                                                                                             \\nThat can easily fit in the singles section of the album article—    \n",
              "1  High gravity as a substitute for high speed relatistic time dilation effect \\n\\nFrom the article\\n\\nUsing time dilation under the Theory of General Relativity for instance \\nResiding inside of a hollow highmass object \\n\\nAre you sure this is accurate  I was under the impression that according to the shell theorem the net gravity inside a hollow symmetrical sphere was zero  If the hollow object isnt symmetrical there could be some gravity inside but in that case it would be no different from and probably less efficient than standing on the outside of a highmass object   \n",
              "2                                                                                                                                                                                                                                            god pisses off go piss of butt now just know that you just heard me that i will use a fork to take and destroy the eyes and take out your fuckin blood so just piss off butt piss off but i said piss off butt last chance  piss off butt thats it i will kill you pow so see that you are dead and i will stab you now penis dick boobs breasts poo   \n",
              "3                                                                                                                                                                                                                                                                                                                                                                                                                                                  Actions speak louder than words Commodore  You can show that you are there to contribute by actually contributing—making the definition better   \n",
              "4                                                                                                                                                                                                                                                                                                                                                                                                                                                                                                                                              even knowledgeable and experienced neutral editors   \n",
              "\n",
              "                                                                                                                                                                                                                                                                                                                                                                                                                                                                                                                                                           clean_trail_comment_text  \\\n",
              "0                                                                                                                                                                                                                                                                                                                                                                                                                                                                                                                  That can easily fit in the singles section of the album article    \n",
              "1  High gravity as a substitute for high speed relatistic time dilation effect From the articleUsing time dilation under the Theory of General Relativity for instance Residing inside of a hollow highmass object Are you sure this is accurate  I was under the impression that according to the shell theorem the net gravity inside a hollow symmetrical sphere was zero  If the hollow object isnt symmetrical there could be some gravity inside but in that case it would be no different from and probably less efficient than standing on the outside of a highmass object   \n",
              "2                                                                                                                                                                                                                              god pisses off go piss of butt now just know that you just heard me that i will use a fork to take and destroy the eyes and take out your fuckin blood so just piss off butt piss off but i said piss off butt last chance  piss off butt thats it i will kill you pow so see that you are dead and i will stab you now penis dick boobs breasts poo   \n",
              "3                                                                                                                                                                                                                                                                                                                                                                                                                                     Actions speak louder than words Commodore  You can show that you are there to contribute by actually contributingmaking the definition better   \n",
              "4                                                                                                                                                                                                                                                                                                                                                                                                                                                                                                                                even knowledgeable and experienced neutral editors   \n",
              "\n",
              "                                                                                                                                                                                                                                                                                                                                                                                                                                                                                                                                                           clean_lower_comment_text  \\\n",
              "0                                                                                                                                                                                                                                                                                                                                                                                                                                                                                                                  that can easily fit in the singles section of the album article    \n",
              "1  high gravity as a substitute for high speed relatistic time dilation effect from the articleusing time dilation under the theory of general relativity for instance residing inside of a hollow highmass object are you sure this is accurate  i was under the impression that according to the shell theorem the net gravity inside a hollow symmetrical sphere was zero  if the hollow object isnt symmetrical there could be some gravity inside but in that case it would be no different from and probably less efficient than standing on the outside of a highmass object   \n",
              "2                                                                                                                                                                                                                              god pisses off go piss of butt now just know that you just heard me that i will use a fork to take and destroy the eyes and take out your fuckin blood so just piss off butt piss off but i said piss off butt last chance  piss off butt thats it i will kill you pow so see that you are dead and i will stab you now penis dick boobs breasts poo   \n",
              "3                                                                                                                                                                                                                                                                                                                                                                                                                                     actions speak louder than words commodore  you can show that you are there to contribute by actually contributingmaking the definition better   \n",
              "4                                                                                                                                                                                                                                                                                                                                                                                                                                                                                                                                even knowledgeable and experienced neutral editors   \n",
              "\n",
              "   count  \n",
              "0     12  \n",
              "1     94  \n",
              "2     75  \n",
              "3     21  \n",
              "4      6  "
            ]
          },
          "execution_count": 16,
          "metadata": {},
          "output_type": "execute_result"
        }
      ],
      "source": [
        "# Cleaning dataset x_train\n",
        "df_x_train[\"clean_punct_comment_text\"] = df_x_train[\"comment_text\"].apply(lambda x:remove_punctuation(x))\n",
        "df_x_train[\"clean_trail_comment_text\"] = df_x_train[\"clean_punct_comment_text\"].apply(lambda x:remove_trailing(x))\n",
        "df_x_train[\"clean_lower_comment_text\"] = df_x_train[\"clean_trail_comment_text\"].apply(lambda x: x.lower())\n",
        "df_x_train[\"count\"] = df_x_train[\"clean_lower_comment_text\"].apply(lambda x: len(x.split()))\n",
        "df_x_train.head()"
      ]
    },
    {
      "cell_type": "code",
      "execution_count": null,
      "metadata": {
        "id": "MepoUGDK91AL"
      },
      "outputs": [],
      "source": [
        "# Drop kolom\n",
        "df_x_train = df_x_train.drop(columns=[\"comment_text\", \"clean_punct_comment_text\", \"clean_trail_comment_text\"])\n",
        "df_x_val = df_x_val.drop(columns=[\"comment_text\", \"clean_punct_comment_text\", \"clean_trail_comment_text\"])\n",
        "df_test = df_test.drop(columns=[\"comment_text\", \"clean_punct_comment_text\", \"clean_trail_comment_text\"])"
      ]
    },
    {
      "cell_type": "code",
      "execution_count": null,
      "metadata": {
        "id": "pl4YfhZaUXzp"
      },
      "outputs": [],
      "source": [
        "# Rename kolom\n",
        "df_x_train.rename(columns = {\"clean_lower_comment_text\":\"comment_text\"}, inplace = True)\n",
        "df_x_val.rename(columns = {\"clean_lower_comment_text\":\"comment_text\"}, inplace = True)\n",
        "df_test.rename(columns = {\"clean_lower_comment_text\":\"comment_text\"}, inplace = True)"
      ]
    },
    {
      "cell_type": "code",
      "execution_count": null,
      "metadata": {
        "colab": {
          "base_uri": "https://localhost:8080/",
          "height": 558
        },
        "id": "nsbDbe1pT2yy",
        "outputId": "aa0a821d-cc93-4434-e54c-0b50d6af41c3"
      },
      "outputs": [
        {
          "data": {
            "text/plain": [
              "<Figure size 800x800 with 0 Axes>"
            ]
          },
          "metadata": {},
          "output_type": "display_data"
        },
        {
          "data": {
            "image/png": "[encoded data removed]",
            "text/plain": [
              "<Figure size 500x500 with 1 Axes>"
            ]
          },
          "metadata": {},
          "output_type": "display_data"
        }
      ],
      "source": [
        "# Menampilkan jumlah distribusi kata x_train\n",
        "word_dist(df_x_train[\"count\"])"
      ]
    },
    {
      "cell_type": "code",
      "execution_count": null,
      "metadata": {
        "colab": {
          "base_uri": "https://localhost:8080/",
          "height": 337
        },
        "id": "sGY1RXk1Vlah",
        "outputId": "03c5df10-2335-4c26-9cab-ee6e57e55275"
      },
      "outputs": [
        {
          "data": {
            "text/html": [
              "\n",
              "  <div id=\"df-be494e29-a318-481b-8470-f30a025a7329\">\n",
              "    <div class=\"colab-df-container\">\n",
              "      <div>\n",
              "<style scoped>\n",
              "    .dataframe tbody tr th:only-of-type {\n",
              "        vertical-align: middle;\n",
              "    }\n",
              "\n",
              "    .dataframe tbody tr th {\n",
              "        vertical-align: top;\n",
              "    }\n",
              "\n",
              "    .dataframe thead th {\n",
              "        text-align: right;\n",
              "    }\n",
              "</style>\n",
              "<table border=\"1\" class=\"dataframe\">\n",
              "  <thead>\n",
              "    <tr style=\"text-align: right;\">\n",
              "      <th></th>\n",
              "      <th>comment_text</th>\n",
              "      <th>count</th>\n",
              "    </tr>\n",
              "  </thead>\n",
              "  <tbody>\n",
              "    <tr>\n",
              "      <th>0</th>\n",
              "      <td>that can easily fit in the singles section of the album article</td>\n",
              "      <td>12</td>\n",
              "    </tr>\n",
              "    <tr>\n",
              "      <th>1</th>\n",
              "      <td>high gravity as a substitute for high speed relatistic time dilation effect from the articleusing time dilation under the theory of general relativity for instance residing inside of a hollow highmass object are you sure this is accurate  i was under the impression that according to the shell theorem the net gravity inside a hollow symmetrical sphere was zero  if the hollow object isnt symmetrical there could be some gravity inside but in that case it would be no different from and probably less efficient than standing on the outside of a highmass object</td>\n",
              "      <td>94</td>\n",
              "    </tr>\n",
              "    <tr>\n",
              "      <th>2</th>\n",
              "      <td>god pisses off go piss of butt now just know that you just heard me that i will use a fork to take and destroy the eyes and take out your fuckin blood so just piss off butt piss off but i said piss off butt last chance  piss off butt thats it i will kill you pow so see that you are dead and i will stab you now penis dick boobs breasts poo</td>\n",
              "      <td>75</td>\n",
              "    </tr>\n",
              "    <tr>\n",
              "      <th>3</th>\n",
              "      <td>actions speak louder than words commodore  you can show that you are there to contribute by actually contributingmaking the definition better</td>\n",
              "      <td>21</td>\n",
              "    </tr>\n",
              "    <tr>\n",
              "      <th>4</th>\n",
              "      <td>even knowledgeable and experienced neutral editors</td>\n",
              "      <td>6</td>\n",
              "    </tr>\n",
              "  </tbody>\n",
              "</table>\n",
              "</div>\n",
              "      <button class=\"colab-df-convert\" onclick=\"convertToInteractive('df-be494e29-a318-481b-8470-f30a025a7329')\"\n",
              "              title=\"Convert this dataframe to an interactive table.\"\n",
              "              style=\"display:none;\">\n",
              "        \n",
              "  <svg xmlns=\"http://www.w3.org/2000/svg\" height=\"24px\"viewBox=\"0 0 24 24\"\n",
              "       width=\"24px\">\n",
              "    <path d=\"M0 0h24v24H0V0z\" fill=\"none\"/>\n",
              "    <path d=\"M18.56 5.44l.94 2.06.94-2.06 2.06-.94-2.06-.94-.94-2.06-.94 2.06-2.06.94zm-11 1L8.5 8.5l.94-2.06 2.06-.94-2.06-.94L8.5 2.5l-.94 2.06-2.06.94zm10 10l.94 2.06.94-2.06 2.06-.94-2.06-.94-.94-2.06-.94 2.06-2.06.94z\"/><path d=\"M17.41 7.96l-1.37-1.37c-.4-.4-.92-.59-1.43-.59-.52 0-1.04.2-1.43.59L10.3 9.45l-7.72 7.72c-.78.78-.78 2.05 0 2.83L4 21.41c.39.39.9.59 1.41.59.51 0 1.02-.2 1.41-.59l7.78-7.78 2.81-2.81c.8-.78.8-2.07 0-2.86zM5.41 20L4 18.59l7.72-7.72 1.47 1.35L5.41 20z\"/>\n",
              "  </svg>\n",
              "      </button>\n",
              "      \n",
              "  <style>\n",
              "    .colab-df-container {\n",
              "      display:flex;\n",
              "      flex-wrap:wrap;\n",
              "      gap: 12px;\n",
              "    }\n",
              "\n",
              "    .colab-df-convert {\n",
              "      background-color: #E8F0FE;\n",
              "      border: none;\n",
              "      border-radius: 50%;\n",
              "      cursor: pointer;\n",
              "      display: none;\n",
              "      fill: #1967D2;\n",
              "      height: 32px;\n",
              "      padding: 0 0 0 0;\n",
              "      width: 32px;\n",
              "    }\n",
              "\n",
              "    .colab-df-convert:hover {\n",
              "      background-color: #E2EBFA;\n",
              "      box-shadow: 0px 1px 2px rgba(60, 64, 67, 0.3), 0px 1px 3px 1px rgba(60, 64, 67, 0.15);\n",
              "      fill: #174EA6;\n",
              "    }\n",
              "\n",
              "    [theme=dark] .colab-df-convert {\n",
              "      background-color: #3B4455;\n",
              "      fill: #D2E3FC;\n",
              "    }\n",
              "\n",
              "    [theme=dark] .colab-df-convert:hover {\n",
              "      background-color: #434B5C;\n",
              "      box-shadow: 0px 1px 3px 1px rgba(0, 0, 0, 0.15);\n",
              "      filter: drop-shadow(0px 1px 2px rgba(0, 0, 0, 0.3));\n",
              "      fill: #FFFFFF;\n",
              "    }\n",
              "  </style>\n",
              "\n",
              "      <script>\n",
              "        const buttonEl =\n",
              "          document.querySelector('#df-be494e29-a318-481b-8470-f30a025a7329 button.colab-df-convert');\n",
              "        buttonEl.style.display =\n",
              "          google.colab.kernel.accessAllowed ? 'block' : 'none';\n",
              "\n",
              "        async function convertToInteractive(key) {\n",
              "          const element = document.querySelector('#df-be494e29-a318-481b-8470-f30a025a7329');\n",
              "          const dataTable =\n",
              "            await google.colab.kernel.invokeFunction('convertToInteractive',\n",
              "                                                     [key], {});\n",
              "          if (!dataTable) return;\n",
              "\n",
              "          const docLinkHtml = 'Like what you see? Visit the ' +\n",
              "            '<a target=\"_blank\" href=https://colab.research.google.com/notebooks/data_table.ipynb>data table notebook</a>'\n",
              "            + ' to learn more about interactive tables.';\n",
              "          element.innerHTML = '';\n",
              "          dataTable['output_type'] = 'display_data';\n",
              "          await google.colab.output.renderOutput(dataTable, element);\n",
              "          const docLink = document.createElement('div');\n",
              "          docLink.innerHTML = docLinkHtml;\n",
              "          element.appendChild(docLink);\n",
              "        }\n",
              "      </script>\n",
              "    </div>\n",
              "  </div>\n",
              "  "
            ],
            "text/plain": [
              "                                                                                                                                                                                                                                                                                                                                                                                                                                                                                                                                                                       comment_text  \\\n",
              "0                                                                                                                                                                                                                                                                                                                                                                                                                                                                                                                  that can easily fit in the singles section of the album article    \n",
              "1  high gravity as a substitute for high speed relatistic time dilation effect from the articleusing time dilation under the theory of general relativity for instance residing inside of a hollow highmass object are you sure this is accurate  i was under the impression that according to the shell theorem the net gravity inside a hollow symmetrical sphere was zero  if the hollow object isnt symmetrical there could be some gravity inside but in that case it would be no different from and probably less efficient than standing on the outside of a highmass object   \n",
              "2                                                                                                                                                                                                                              god pisses off go piss of butt now just know that you just heard me that i will use a fork to take and destroy the eyes and take out your fuckin blood so just piss off butt piss off but i said piss off butt last chance  piss off butt thats it i will kill you pow so see that you are dead and i will stab you now penis dick boobs breasts poo   \n",
              "3                                                                                                                                                                                                                                                                                                                                                                                                                                     actions speak louder than words commodore  you can show that you are there to contribute by actually contributingmaking the definition better   \n",
              "4                                                                                                                                                                                                                                                                                                                                                                                                                                                                                                                                even knowledgeable and experienced neutral editors   \n",
              "\n",
              "   count  \n",
              "0     12  \n",
              "1     94  \n",
              "2     75  \n",
              "3     21  \n",
              "4      6  "
            ]
          },
          "execution_count": 24,
          "metadata": {},
          "output_type": "execute_result"
        }
      ],
      "source": [
        "# Menampilkan dataset x_train\n",
        "df_x_train.head()"
      ]
    },
    {
      "cell_type": "markdown",
      "metadata": {
        "id": "wyniSpV5sSVR"
      },
      "source": [
        "# *Preprocessing*\n",
        "---"
      ]
    },
    {
      "cell_type": "code",
      "source": [
        "# Inisialisasi token distilBERT\n",
        "tokenizer = DistilBertTokenizerFast.from_pretrained(\"distilbert-base-uncased\")\n",
        "\n",
        "# Encode X_train\n",
        "X_train_ids, X_train_attention = batch_encode(tokenizer, X_train.tolist())\n",
        "\n",
        "# # Encode X_valid\n",
        "X_valid_ids, X_valid_attention = batch_encode(tokenizer, X_valid.tolist())\n",
        "\n",
        "# Encode X_test\n",
        "X_test_ids, X_test_attention = batch_encode(tokenizer, X_test.tolist())"
      ],
      "metadata": {
        "id": "_JtYAonodUav",
        "colab": {
          "base_uri": "https://localhost:8080/"
        },
        "outputId": "bce76194-2020-4079-d4f6-96fe58ffd640"
      },
      "execution_count": null,
      "outputs": [
        {
          "output_type": "stream",
          "name": "stdout",
          "text": [
            "<class 'transformers.tokenization_utils_base.BatchEncoding'>\n",
            "<class 'list'>\n",
            "<class 'list'>\n",
            "<class 'transformers.tokenization_utils_base.BatchEncoding'>\n",
            "<class 'list'>\n",
            "<class 'list'>\n",
            "<class 'transformers.tokenization_utils_base.BatchEncoding'>\n",
            "<class 'list'>\n",
            "<class 'list'>\n",
            "<class 'transformers.tokenization_utils_base.BatchEncoding'>\n",
            "<class 'list'>\n",
            "<class 'list'>\n",
            "<class 'transformers.tokenization_utils_base.BatchEncoding'>\n",
            "<class 'list'>\n",
            "<class 'list'>\n",
            "<class 'transformers.tokenization_utils_base.BatchEncoding'>\n",
            "<class 'list'>\n",
            "<class 'list'>\n",
            "<class 'transformers.tokenization_utils_base.BatchEncoding'>\n",
            "<class 'list'>\n",
            "<class 'list'>\n",
            "<class 'transformers.tokenization_utils_base.BatchEncoding'>\n",
            "<class 'list'>\n",
            "<class 'list'>\n",
            "<class 'transformers.tokenization_utils_base.BatchEncoding'>\n",
            "<class 'list'>\n",
            "<class 'list'>\n",
            "<class 'transformers.tokenization_utils_base.BatchEncoding'>\n",
            "<class 'list'>\n",
            "<class 'list'>\n",
            "<class 'transformers.tokenization_utils_base.BatchEncoding'>\n",
            "<class 'list'>\n",
            "<class 'list'>\n",
            "<class 'transformers.tokenization_utils_base.BatchEncoding'>\n",
            "<class 'list'>\n",
            "<class 'list'>\n",
            "<class 'transformers.tokenization_utils_base.BatchEncoding'>\n",
            "<class 'list'>\n",
            "<class 'list'>\n",
            "<class 'transformers.tokenization_utils_base.BatchEncoding'>\n",
            "<class 'list'>\n",
            "<class 'list'>\n",
            "<class 'transformers.tokenization_utils_base.BatchEncoding'>\n",
            "<class 'list'>\n",
            "<class 'list'>\n",
            "<class 'transformers.tokenization_utils_base.BatchEncoding'>\n",
            "<class 'list'>\n",
            "<class 'list'>\n",
            "<class 'transformers.tokenization_utils_base.BatchEncoding'>\n",
            "<class 'list'>\n",
            "<class 'list'>\n",
            "<class 'transformers.tokenization_utils_base.BatchEncoding'>\n",
            "<class 'list'>\n",
            "<class 'list'>\n",
            "<class 'transformers.tokenization_utils_base.BatchEncoding'>\n",
            "<class 'list'>\n",
            "<class 'list'>\n",
            "<class 'transformers.tokenization_utils_base.BatchEncoding'>\n",
            "<class 'list'>\n",
            "<class 'list'>\n",
            "<class 'transformers.tokenization_utils_base.BatchEncoding'>\n",
            "<class 'list'>\n",
            "<class 'list'>\n",
            "<class 'transformers.tokenization_utils_base.BatchEncoding'>\n",
            "<class 'list'>\n",
            "<class 'list'>\n",
            "<class 'transformers.tokenization_utils_base.BatchEncoding'>\n",
            "<class 'list'>\n",
            "<class 'list'>\n",
            "<class 'transformers.tokenization_utils_base.BatchEncoding'>\n",
            "<class 'list'>\n",
            "<class 'list'>\n",
            "<class 'transformers.tokenization_utils_base.BatchEncoding'>\n",
            "<class 'list'>\n",
            "<class 'list'>\n",
            "<class 'transformers.tokenization_utils_base.BatchEncoding'>\n",
            "<class 'list'>\n",
            "<class 'list'>\n",
            "<class 'transformers.tokenization_utils_base.BatchEncoding'>\n",
            "<class 'list'>\n",
            "<class 'list'>\n",
            "<class 'transformers.tokenization_utils_base.BatchEncoding'>\n",
            "<class 'list'>\n",
            "<class 'list'>\n",
            "<class 'transformers.tokenization_utils_base.BatchEncoding'>\n",
            "<class 'list'>\n",
            "<class 'list'>\n",
            "<class 'transformers.tokenization_utils_base.BatchEncoding'>\n",
            "<class 'list'>\n",
            "<class 'list'>\n",
            "<class 'transformers.tokenization_utils_base.BatchEncoding'>\n",
            "<class 'list'>\n",
            "<class 'list'>\n",
            "<class 'transformers.tokenization_utils_base.BatchEncoding'>\n",
            "<class 'list'>\n",
            "<class 'list'>\n",
            "<class 'transformers.tokenization_utils_base.BatchEncoding'>\n",
            "<class 'list'>\n",
            "<class 'list'>\n",
            "<class 'transformers.tokenization_utils_base.BatchEncoding'>\n",
            "<class 'list'>\n",
            "<class 'list'>\n",
            "<class 'transformers.tokenization_utils_base.BatchEncoding'>\n",
            "<class 'list'>\n",
            "<class 'list'>\n",
            "<class 'transformers.tokenization_utils_base.BatchEncoding'>\n",
            "<class 'list'>\n",
            "<class 'list'>\n",
            "<class 'transformers.tokenization_utils_base.BatchEncoding'>\n",
            "<class 'list'>\n",
            "<class 'list'>\n",
            "<class 'transformers.tokenization_utils_base.BatchEncoding'>\n",
            "<class 'list'>\n",
            "<class 'list'>\n",
            "<class 'transformers.tokenization_utils_base.BatchEncoding'>\n",
            "<class 'list'>\n",
            "<class 'list'>\n",
            "<class 'transformers.tokenization_utils_base.BatchEncoding'>\n",
            "<class 'list'>\n",
            "<class 'list'>\n",
            "<class 'transformers.tokenization_utils_base.BatchEncoding'>\n",
            "<class 'list'>\n",
            "<class 'list'>\n",
            "<class 'transformers.tokenization_utils_base.BatchEncoding'>\n",
            "<class 'list'>\n",
            "<class 'list'>\n",
            "<class 'transformers.tokenization_utils_base.BatchEncoding'>\n",
            "<class 'list'>\n",
            "<class 'list'>\n",
            "<class 'transformers.tokenization_utils_base.BatchEncoding'>\n",
            "<class 'list'>\n",
            "<class 'list'>\n",
            "<class 'transformers.tokenization_utils_base.BatchEncoding'>\n",
            "<class 'list'>\n",
            "<class 'list'>\n",
            "<class 'transformers.tokenization_utils_base.BatchEncoding'>\n",
            "<class 'list'>\n",
            "<class 'list'>\n",
            "<class 'transformers.tokenization_utils_base.BatchEncoding'>\n",
            "<class 'list'>\n",
            "<class 'list'>\n",
            "<class 'transformers.tokenization_utils_base.BatchEncoding'>\n",
            "<class 'list'>\n",
            "<class 'list'>\n",
            "<class 'transformers.tokenization_utils_base.BatchEncoding'>\n",
            "<class 'list'>\n",
            "<class 'list'>\n",
            "<class 'transformers.tokenization_utils_base.BatchEncoding'>\n",
            "<class 'list'>\n",
            "<class 'list'>\n",
            "<class 'transformers.tokenization_utils_base.BatchEncoding'>\n",
            "<class 'list'>\n",
            "<class 'list'>\n",
            "<class 'transformers.tokenization_utils_base.BatchEncoding'>\n",
            "<class 'list'>\n",
            "<class 'list'>\n",
            "<class 'transformers.tokenization_utils_base.BatchEncoding'>\n",
            "<class 'list'>\n",
            "<class 'list'>\n",
            "<class 'transformers.tokenization_utils_base.BatchEncoding'>\n",
            "<class 'list'>\n",
            "<class 'list'>\n",
            "<class 'transformers.tokenization_utils_base.BatchEncoding'>\n",
            "<class 'list'>\n",
            "<class 'list'>\n",
            "<class 'transformers.tokenization_utils_base.BatchEncoding'>\n",
            "<class 'list'>\n",
            "<class 'list'>\n",
            "<class 'transformers.tokenization_utils_base.BatchEncoding'>\n",
            "<class 'list'>\n",
            "<class 'list'>\n",
            "<class 'transformers.tokenization_utils_base.BatchEncoding'>\n",
            "<class 'list'>\n",
            "<class 'list'>\n",
            "<class 'transformers.tokenization_utils_base.BatchEncoding'>\n",
            "<class 'list'>\n",
            "<class 'list'>\n",
            "<class 'transformers.tokenization_utils_base.BatchEncoding'>\n",
            "<class 'list'>\n",
            "<class 'list'>\n",
            "<class 'transformers.tokenization_utils_base.BatchEncoding'>\n",
            "<class 'list'>\n",
            "<class 'list'>\n",
            "<class 'transformers.tokenization_utils_base.BatchEncoding'>\n",
            "<class 'list'>\n",
            "<class 'list'>\n",
            "<class 'transformers.tokenization_utils_base.BatchEncoding'>\n",
            "<class 'list'>\n",
            "<class 'list'>\n",
            "<class 'transformers.tokenization_utils_base.BatchEncoding'>\n",
            "<class 'list'>\n",
            "<class 'list'>\n",
            "<class 'transformers.tokenization_utils_base.BatchEncoding'>\n",
            "<class 'list'>\n",
            "<class 'list'>\n",
            "<class 'transformers.tokenization_utils_base.BatchEncoding'>\n",
            "<class 'list'>\n",
            "<class 'list'>\n",
            "<class 'transformers.tokenization_utils_base.BatchEncoding'>\n",
            "<class 'list'>\n",
            "<class 'list'>\n",
            "<class 'transformers.tokenization_utils_base.BatchEncoding'>\n",
            "<class 'list'>\n",
            "<class 'list'>\n",
            "<class 'transformers.tokenization_utils_base.BatchEncoding'>\n",
            "<class 'list'>\n",
            "<class 'list'>\n",
            "<class 'transformers.tokenization_utils_base.BatchEncoding'>\n",
            "<class 'list'>\n",
            "<class 'list'>\n",
            "<class 'transformers.tokenization_utils_base.BatchEncoding'>\n",
            "<class 'list'>\n",
            "<class 'list'>\n",
            "<class 'transformers.tokenization_utils_base.BatchEncoding'>\n",
            "<class 'list'>\n",
            "<class 'list'>\n",
            "<class 'transformers.tokenization_utils_base.BatchEncoding'>\n",
            "<class 'list'>\n",
            "<class 'list'>\n",
            "<class 'transformers.tokenization_utils_base.BatchEncoding'>\n",
            "<class 'list'>\n",
            "<class 'list'>\n",
            "<class 'transformers.tokenization_utils_base.BatchEncoding'>\n",
            "<class 'list'>\n",
            "<class 'list'>\n",
            "<class 'transformers.tokenization_utils_base.BatchEncoding'>\n",
            "<class 'list'>\n",
            "<class 'list'>\n",
            "<class 'transformers.tokenization_utils_base.BatchEncoding'>\n",
            "<class 'list'>\n",
            "<class 'list'>\n",
            "<class 'transformers.tokenization_utils_base.BatchEncoding'>\n",
            "<class 'list'>\n",
            "<class 'list'>\n",
            "<class 'transformers.tokenization_utils_base.BatchEncoding'>\n",
            "<class 'list'>\n",
            "<class 'list'>\n",
            "<class 'transformers.tokenization_utils_base.BatchEncoding'>\n",
            "<class 'list'>\n",
            "<class 'list'>\n",
            "<class 'transformers.tokenization_utils_base.BatchEncoding'>\n",
            "<class 'list'>\n",
            "<class 'list'>\n",
            "<class 'transformers.tokenization_utils_base.BatchEncoding'>\n",
            "<class 'list'>\n",
            "<class 'list'>\n",
            "<class 'transformers.tokenization_utils_base.BatchEncoding'>\n",
            "<class 'list'>\n",
            "<class 'list'>\n",
            "<class 'transformers.tokenization_utils_base.BatchEncoding'>\n",
            "<class 'list'>\n",
            "<class 'list'>\n",
            "<class 'transformers.tokenization_utils_base.BatchEncoding'>\n",
            "<class 'list'>\n",
            "<class 'list'>\n",
            "<class 'transformers.tokenization_utils_base.BatchEncoding'>\n",
            "<class 'list'>\n",
            "<class 'list'>\n",
            "<class 'transformers.tokenization_utils_base.BatchEncoding'>\n",
            "<class 'list'>\n",
            "<class 'list'>\n",
            "<class 'transformers.tokenization_utils_base.BatchEncoding'>\n",
            "<class 'list'>\n",
            "<class 'list'>\n",
            "<class 'transformers.tokenization_utils_base.BatchEncoding'>\n",
            "<class 'list'>\n",
            "<class 'list'>\n",
            "<class 'transformers.tokenization_utils_base.BatchEncoding'>\n",
            "<class 'list'>\n",
            "<class 'list'>\n",
            "<class 'transformers.tokenization_utils_base.BatchEncoding'>\n",
            "<class 'list'>\n",
            "<class 'list'>\n",
            "<class 'transformers.tokenization_utils_base.BatchEncoding'>\n",
            "<class 'list'>\n",
            "<class 'list'>\n",
            "<class 'transformers.tokenization_utils_base.BatchEncoding'>\n",
            "<class 'list'>\n",
            "<class 'list'>\n",
            "<class 'transformers.tokenization_utils_base.BatchEncoding'>\n",
            "<class 'list'>\n",
            "<class 'list'>\n",
            "<class 'transformers.tokenization_utils_base.BatchEncoding'>\n",
            "<class 'list'>\n",
            "<class 'list'>\n",
            "<class 'transformers.tokenization_utils_base.BatchEncoding'>\n",
            "<class 'list'>\n",
            "<class 'list'>\n",
            "<class 'transformers.tokenization_utils_base.BatchEncoding'>\n",
            "<class 'list'>\n",
            "<class 'list'>\n",
            "<class 'transformers.tokenization_utils_base.BatchEncoding'>\n",
            "<class 'list'>\n",
            "<class 'list'>\n",
            "<class 'transformers.tokenization_utils_base.BatchEncoding'>\n",
            "<class 'list'>\n",
            "<class 'list'>\n",
            "<class 'transformers.tokenization_utils_base.BatchEncoding'>\n",
            "<class 'list'>\n",
            "<class 'list'>\n",
            "<class 'transformers.tokenization_utils_base.BatchEncoding'>\n",
            "<class 'list'>\n",
            "<class 'list'>\n",
            "<class 'transformers.tokenization_utils_base.BatchEncoding'>\n",
            "<class 'list'>\n",
            "<class 'list'>\n",
            "<class 'transformers.tokenization_utils_base.BatchEncoding'>\n",
            "<class 'list'>\n",
            "<class 'list'>\n",
            "<class 'transformers.tokenization_utils_base.BatchEncoding'>\n",
            "<class 'list'>\n",
            "<class 'list'>\n",
            "<class 'transformers.tokenization_utils_base.BatchEncoding'>\n",
            "<class 'list'>\n",
            "<class 'list'>\n",
            "<class 'transformers.tokenization_utils_base.BatchEncoding'>\n",
            "<class 'list'>\n",
            "<class 'list'>\n",
            "<class 'transformers.tokenization_utils_base.BatchEncoding'>\n",
            "<class 'list'>\n",
            "<class 'list'>\n",
            "<class 'transformers.tokenization_utils_base.BatchEncoding'>\n",
            "<class 'list'>\n",
            "<class 'list'>\n",
            "<class 'transformers.tokenization_utils_base.BatchEncoding'>\n",
            "<class 'list'>\n",
            "<class 'list'>\n",
            "<class 'transformers.tokenization_utils_base.BatchEncoding'>\n",
            "<class 'list'>\n",
            "<class 'list'>\n",
            "<class 'transformers.tokenization_utils_base.BatchEncoding'>\n",
            "<class 'list'>\n",
            "<class 'list'>\n",
            "<class 'transformers.tokenization_utils_base.BatchEncoding'>\n",
            "<class 'list'>\n",
            "<class 'list'>\n",
            "<class 'transformers.tokenization_utils_base.BatchEncoding'>\n",
            "<class 'list'>\n",
            "<class 'list'>\n",
            "<class 'transformers.tokenization_utils_base.BatchEncoding'>\n",
            "<class 'list'>\n",
            "<class 'list'>\n",
            "<class 'transformers.tokenization_utils_base.BatchEncoding'>\n",
            "<class 'list'>\n",
            "<class 'list'>\n",
            "<class 'transformers.tokenization_utils_base.BatchEncoding'>\n",
            "<class 'list'>\n",
            "<class 'list'>\n",
            "<class 'transformers.tokenization_utils_base.BatchEncoding'>\n",
            "<class 'list'>\n",
            "<class 'list'>\n",
            "<class 'transformers.tokenization_utils_base.BatchEncoding'>\n",
            "<class 'list'>\n",
            "<class 'list'>\n",
            "<class 'transformers.tokenization_utils_base.BatchEncoding'>\n",
            "<class 'list'>\n",
            "<class 'list'>\n",
            "<class 'transformers.tokenization_utils_base.BatchEncoding'>\n",
            "<class 'list'>\n",
            "<class 'list'>\n",
            "<class 'transformers.tokenization_utils_base.BatchEncoding'>\n",
            "<class 'list'>\n",
            "<class 'list'>\n",
            "<class 'transformers.tokenization_utils_base.BatchEncoding'>\n",
            "<class 'list'>\n",
            "<class 'list'>\n",
            "<class 'transformers.tokenization_utils_base.BatchEncoding'>\n",
            "<class 'list'>\n",
            "<class 'list'>\n",
            "<class 'transformers.tokenization_utils_base.BatchEncoding'>\n",
            "<class 'list'>\n",
            "<class 'list'>\n",
            "<class 'transformers.tokenization_utils_base.BatchEncoding'>\n",
            "<class 'list'>\n",
            "<class 'list'>\n",
            "<class 'transformers.tokenization_utils_base.BatchEncoding'>\n",
            "<class 'list'>\n",
            "<class 'list'>\n",
            "<class 'transformers.tokenization_utils_base.BatchEncoding'>\n",
            "<class 'list'>\n",
            "<class 'list'>\n",
            "<class 'transformers.tokenization_utils_base.BatchEncoding'>\n",
            "<class 'list'>\n",
            "<class 'list'>\n",
            "<class 'transformers.tokenization_utils_base.BatchEncoding'>\n",
            "<class 'list'>\n",
            "<class 'list'>\n",
            "<class 'transformers.tokenization_utils_base.BatchEncoding'>\n",
            "<class 'list'>\n",
            "<class 'list'>\n",
            "<class 'transformers.tokenization_utils_base.BatchEncoding'>\n",
            "<class 'list'>\n",
            "<class 'list'>\n",
            "<class 'transformers.tokenization_utils_base.BatchEncoding'>\n",
            "<class 'list'>\n",
            "<class 'list'>\n",
            "<class 'transformers.tokenization_utils_base.BatchEncoding'>\n",
            "<class 'list'>\n",
            "<class 'list'>\n",
            "<class 'transformers.tokenization_utils_base.BatchEncoding'>\n",
            "<class 'list'>\n",
            "<class 'list'>\n",
            "<class 'transformers.tokenization_utils_base.BatchEncoding'>\n",
            "<class 'list'>\n",
            "<class 'list'>\n",
            "<class 'transformers.tokenization_utils_base.BatchEncoding'>\n",
            "<class 'list'>\n",
            "<class 'list'>\n",
            "<class 'transformers.tokenization_utils_base.BatchEncoding'>\n",
            "<class 'list'>\n",
            "<class 'list'>\n",
            "<class 'transformers.tokenization_utils_base.BatchEncoding'>\n",
            "<class 'list'>\n",
            "<class 'list'>\n",
            "<class 'transformers.tokenization_utils_base.BatchEncoding'>\n",
            "<class 'list'>\n",
            "<class 'list'>\n",
            "<class 'transformers.tokenization_utils_base.BatchEncoding'>\n",
            "<class 'list'>\n",
            "<class 'list'>\n",
            "<class 'transformers.tokenization_utils_base.BatchEncoding'>\n",
            "<class 'list'>\n",
            "<class 'list'>\n",
            "<class 'transformers.tokenization_utils_base.BatchEncoding'>\n",
            "<class 'list'>\n",
            "<class 'list'>\n",
            "<class 'transformers.tokenization_utils_base.BatchEncoding'>\n",
            "<class 'list'>\n",
            "<class 'list'>\n",
            "<class 'transformers.tokenization_utils_base.BatchEncoding'>\n",
            "<class 'list'>\n",
            "<class 'list'>\n",
            "<class 'transformers.tokenization_utils_base.BatchEncoding'>\n",
            "<class 'list'>\n",
            "<class 'list'>\n",
            "<class 'transformers.tokenization_utils_base.BatchEncoding'>\n",
            "<class 'list'>\n",
            "<class 'list'>\n",
            "<class 'transformers.tokenization_utils_base.BatchEncoding'>\n",
            "<class 'list'>\n",
            "<class 'list'>\n",
            "<class 'transformers.tokenization_utils_base.BatchEncoding'>\n",
            "<class 'list'>\n",
            "<class 'list'>\n",
            "<class 'transformers.tokenization_utils_base.BatchEncoding'>\n",
            "<class 'list'>\n",
            "<class 'list'>\n",
            "<class 'transformers.tokenization_utils_base.BatchEncoding'>\n",
            "<class 'list'>\n",
            "<class 'list'>\n",
            "<class 'transformers.tokenization_utils_base.BatchEncoding'>\n",
            "<class 'list'>\n",
            "<class 'list'>\n",
            "<class 'transformers.tokenization_utils_base.BatchEncoding'>\n",
            "<class 'list'>\n",
            "<class 'list'>\n",
            "<class 'transformers.tokenization_utils_base.BatchEncoding'>\n",
            "<class 'list'>\n",
            "<class 'list'>\n",
            "<class 'transformers.tokenization_utils_base.BatchEncoding'>\n",
            "<class 'list'>\n",
            "<class 'list'>\n",
            "<class 'transformers.tokenization_utils_base.BatchEncoding'>\n",
            "<class 'list'>\n",
            "<class 'list'>\n",
            "<class 'transformers.tokenization_utils_base.BatchEncoding'>\n",
            "<class 'list'>\n",
            "<class 'list'>\n",
            "<class 'transformers.tokenization_utils_base.BatchEncoding'>\n",
            "<class 'list'>\n",
            "<class 'list'>\n",
            "<class 'transformers.tokenization_utils_base.BatchEncoding'>\n",
            "<class 'list'>\n",
            "<class 'list'>\n",
            "<class 'transformers.tokenization_utils_base.BatchEncoding'>\n",
            "<class 'list'>\n",
            "<class 'list'>\n",
            "<class 'transformers.tokenization_utils_base.BatchEncoding'>\n",
            "<class 'list'>\n",
            "<class 'list'>\n",
            "<class 'transformers.tokenization_utils_base.BatchEncoding'>\n",
            "<class 'list'>\n",
            "<class 'list'>\n",
            "<class 'transformers.tokenization_utils_base.BatchEncoding'>\n",
            "<class 'list'>\n",
            "<class 'list'>\n",
            "<class 'transformers.tokenization_utils_base.BatchEncoding'>\n",
            "<class 'list'>\n",
            "<class 'list'>\n",
            "<class 'transformers.tokenization_utils_base.BatchEncoding'>\n",
            "<class 'list'>\n",
            "<class 'list'>\n",
            "<class 'transformers.tokenization_utils_base.BatchEncoding'>\n",
            "<class 'list'>\n",
            "<class 'list'>\n",
            "<class 'transformers.tokenization_utils_base.BatchEncoding'>\n",
            "<class 'list'>\n",
            "<class 'list'>\n",
            "<class 'transformers.tokenization_utils_base.BatchEncoding'>\n",
            "<class 'list'>\n",
            "<class 'list'>\n",
            "<class 'transformers.tokenization_utils_base.BatchEncoding'>\n",
            "<class 'list'>\n",
            "<class 'list'>\n",
            "<class 'transformers.tokenization_utils_base.BatchEncoding'>\n",
            "<class 'list'>\n",
            "<class 'list'>\n",
            "<class 'transformers.tokenization_utils_base.BatchEncoding'>\n",
            "<class 'list'>\n",
            "<class 'list'>\n",
            "<class 'transformers.tokenization_utils_base.BatchEncoding'>\n",
            "<class 'list'>\n",
            "<class 'list'>\n",
            "<class 'transformers.tokenization_utils_base.BatchEncoding'>\n",
            "<class 'list'>\n",
            "<class 'list'>\n",
            "<class 'transformers.tokenization_utils_base.BatchEncoding'>\n",
            "<class 'list'>\n",
            "<class 'list'>\n",
            "<class 'transformers.tokenization_utils_base.BatchEncoding'>\n",
            "<class 'list'>\n",
            "<class 'list'>\n",
            "<class 'transformers.tokenization_utils_base.BatchEncoding'>\n",
            "<class 'list'>\n",
            "<class 'list'>\n",
            "<class 'transformers.tokenization_utils_base.BatchEncoding'>\n",
            "<class 'list'>\n",
            "<class 'list'>\n",
            "<class 'transformers.tokenization_utils_base.BatchEncoding'>\n",
            "<class 'list'>\n",
            "<class 'list'>\n",
            "<class 'transformers.tokenization_utils_base.BatchEncoding'>\n",
            "<class 'list'>\n",
            "<class 'list'>\n",
            "<class 'transformers.tokenization_utils_base.BatchEncoding'>\n",
            "<class 'list'>\n",
            "<class 'list'>\n",
            "<class 'transformers.tokenization_utils_base.BatchEncoding'>\n",
            "<class 'list'>\n",
            "<class 'list'>\n",
            "<class 'transformers.tokenization_utils_base.BatchEncoding'>\n",
            "<class 'list'>\n",
            "<class 'list'>\n",
            "<class 'transformers.tokenization_utils_base.BatchEncoding'>\n",
            "<class 'list'>\n",
            "<class 'list'>\n",
            "<class 'transformers.tokenization_utils_base.BatchEncoding'>\n",
            "<class 'list'>\n",
            "<class 'list'>\n",
            "<class 'transformers.tokenization_utils_base.BatchEncoding'>\n",
            "<class 'list'>\n",
            "<class 'list'>\n",
            "<class 'transformers.tokenization_utils_base.BatchEncoding'>\n",
            "<class 'list'>\n",
            "<class 'list'>\n",
            "<class 'transformers.tokenization_utils_base.BatchEncoding'>\n",
            "<class 'list'>\n",
            "<class 'list'>\n",
            "<class 'transformers.tokenization_utils_base.BatchEncoding'>\n",
            "<class 'list'>\n",
            "<class 'list'>\n",
            "<class 'transformers.tokenization_utils_base.BatchEncoding'>\n",
            "<class 'list'>\n",
            "<class 'list'>\n",
            "<class 'transformers.tokenization_utils_base.BatchEncoding'>\n",
            "<class 'list'>\n",
            "<class 'list'>\n",
            "<class 'transformers.tokenization_utils_base.BatchEncoding'>\n",
            "<class 'list'>\n",
            "<class 'list'>\n",
            "<class 'transformers.tokenization_utils_base.BatchEncoding'>\n",
            "<class 'list'>\n",
            "<class 'list'>\n",
            "<class 'transformers.tokenization_utils_base.BatchEncoding'>\n",
            "<class 'list'>\n",
            "<class 'list'>\n",
            "<class 'transformers.tokenization_utils_base.BatchEncoding'>\n",
            "<class 'list'>\n",
            "<class 'list'>\n",
            "<class 'transformers.tokenization_utils_base.BatchEncoding'>\n",
            "<class 'list'>\n",
            "<class 'list'>\n",
            "<class 'transformers.tokenization_utils_base.BatchEncoding'>\n",
            "<class 'list'>\n",
            "<class 'list'>\n",
            "<class 'transformers.tokenization_utils_base.BatchEncoding'>\n",
            "<class 'list'>\n",
            "<class 'list'>\n",
            "<class 'transformers.tokenization_utils_base.BatchEncoding'>\n",
            "<class 'list'>\n",
            "<class 'list'>\n",
            "<class 'transformers.tokenization_utils_base.BatchEncoding'>\n",
            "<class 'list'>\n",
            "<class 'list'>\n",
            "<class 'transformers.tokenization_utils_base.BatchEncoding'>\n",
            "<class 'list'>\n",
            "<class 'list'>\n",
            "<class 'transformers.tokenization_utils_base.BatchEncoding'>\n",
            "<class 'list'>\n",
            "<class 'list'>\n",
            "<class 'transformers.tokenization_utils_base.BatchEncoding'>\n",
            "<class 'list'>\n",
            "<class 'list'>\n",
            "<class 'transformers.tokenization_utils_base.BatchEncoding'>\n",
            "<class 'list'>\n",
            "<class 'list'>\n",
            "<class 'transformers.tokenization_utils_base.BatchEncoding'>\n",
            "<class 'list'>\n",
            "<class 'list'>\n",
            "<class 'transformers.tokenization_utils_base.BatchEncoding'>\n",
            "<class 'list'>\n",
            "<class 'list'>\n",
            "<class 'transformers.tokenization_utils_base.BatchEncoding'>\n",
            "<class 'list'>\n",
            "<class 'list'>\n",
            "<class 'transformers.tokenization_utils_base.BatchEncoding'>\n",
            "<class 'list'>\n",
            "<class 'list'>\n",
            "<class 'transformers.tokenization_utils_base.BatchEncoding'>\n",
            "<class 'list'>\n",
            "<class 'list'>\n",
            "<class 'transformers.tokenization_utils_base.BatchEncoding'>\n",
            "<class 'list'>\n",
            "<class 'list'>\n",
            "<class 'transformers.tokenization_utils_base.BatchEncoding'>\n",
            "<class 'list'>\n",
            "<class 'list'>\n",
            "<class 'transformers.tokenization_utils_base.BatchEncoding'>\n",
            "<class 'list'>\n",
            "<class 'list'>\n",
            "<class 'transformers.tokenization_utils_base.BatchEncoding'>\n",
            "<class 'list'>\n",
            "<class 'list'>\n",
            "<class 'transformers.tokenization_utils_base.BatchEncoding'>\n",
            "<class 'list'>\n",
            "<class 'list'>\n",
            "<class 'transformers.tokenization_utils_base.BatchEncoding'>\n",
            "<class 'list'>\n",
            "<class 'list'>\n",
            "<class 'transformers.tokenization_utils_base.BatchEncoding'>\n",
            "<class 'list'>\n",
            "<class 'list'>\n",
            "<class 'transformers.tokenization_utils_base.BatchEncoding'>\n",
            "<class 'list'>\n",
            "<class 'list'>\n",
            "<class 'transformers.tokenization_utils_base.BatchEncoding'>\n",
            "<class 'list'>\n",
            "<class 'list'>\n",
            "<class 'transformers.tokenization_utils_base.BatchEncoding'>\n",
            "<class 'list'>\n",
            "<class 'list'>\n",
            "<class 'transformers.tokenization_utils_base.BatchEncoding'>\n",
            "<class 'list'>\n",
            "<class 'list'>\n",
            "<class 'transformers.tokenization_utils_base.BatchEncoding'>\n",
            "<class 'list'>\n",
            "<class 'list'>\n",
            "<class 'transformers.tokenization_utils_base.BatchEncoding'>\n",
            "<class 'list'>\n",
            "<class 'list'>\n",
            "<class 'transformers.tokenization_utils_base.BatchEncoding'>\n",
            "<class 'list'>\n",
            "<class 'list'>\n",
            "<class 'transformers.tokenization_utils_base.BatchEncoding'>\n",
            "<class 'list'>\n",
            "<class 'list'>\n",
            "<class 'transformers.tokenization_utils_base.BatchEncoding'>\n",
            "<class 'list'>\n",
            "<class 'list'>\n",
            "<class 'transformers.tokenization_utils_base.BatchEncoding'>\n",
            "<class 'list'>\n",
            "<class 'list'>\n",
            "<class 'transformers.tokenization_utils_base.BatchEncoding'>\n",
            "<class 'list'>\n",
            "<class 'list'>\n",
            "<class 'transformers.tokenization_utils_base.BatchEncoding'>\n",
            "<class 'list'>\n",
            "<class 'list'>\n",
            "<class 'transformers.tokenization_utils_base.BatchEncoding'>\n",
            "<class 'list'>\n",
            "<class 'list'>\n",
            "<class 'transformers.tokenization_utils_base.BatchEncoding'>\n",
            "<class 'list'>\n",
            "<class 'list'>\n",
            "<class 'transformers.tokenization_utils_base.BatchEncoding'>\n",
            "<class 'list'>\n",
            "<class 'list'>\n",
            "<class 'transformers.tokenization_utils_base.BatchEncoding'>\n",
            "<class 'list'>\n",
            "<class 'list'>\n",
            "<class 'transformers.tokenization_utils_base.BatchEncoding'>\n",
            "<class 'list'>\n",
            "<class 'list'>\n",
            "<class 'transformers.tokenization_utils_base.BatchEncoding'>\n",
            "<class 'list'>\n",
            "<class 'list'>\n",
            "<class 'transformers.tokenization_utils_base.BatchEncoding'>\n",
            "<class 'list'>\n",
            "<class 'list'>\n",
            "<class 'transformers.tokenization_utils_base.BatchEncoding'>\n",
            "<class 'list'>\n",
            "<class 'list'>\n",
            "<class 'transformers.tokenization_utils_base.BatchEncoding'>\n",
            "<class 'list'>\n",
            "<class 'list'>\n",
            "<class 'transformers.tokenization_utils_base.BatchEncoding'>\n",
            "<class 'list'>\n",
            "<class 'list'>\n",
            "<class 'transformers.tokenization_utils_base.BatchEncoding'>\n",
            "<class 'list'>\n",
            "<class 'list'>\n",
            "<class 'transformers.tokenization_utils_base.BatchEncoding'>\n",
            "<class 'list'>\n",
            "<class 'list'>\n",
            "<class 'transformers.tokenization_utils_base.BatchEncoding'>\n",
            "<class 'list'>\n",
            "<class 'list'>\n",
            "<class 'transformers.tokenization_utils_base.BatchEncoding'>\n",
            "<class 'list'>\n",
            "<class 'list'>\n",
            "<class 'transformers.tokenization_utils_base.BatchEncoding'>\n",
            "<class 'list'>\n",
            "<class 'list'>\n",
            "<class 'transformers.tokenization_utils_base.BatchEncoding'>\n",
            "<class 'list'>\n",
            "<class 'list'>\n",
            "<class 'transformers.tokenization_utils_base.BatchEncoding'>\n",
            "<class 'list'>\n",
            "<class 'list'>\n",
            "<class 'transformers.tokenization_utils_base.BatchEncoding'>\n",
            "<class 'list'>\n",
            "<class 'list'>\n",
            "<class 'transformers.tokenization_utils_base.BatchEncoding'>\n",
            "<class 'list'>\n",
            "<class 'list'>\n",
            "<class 'transformers.tokenization_utils_base.BatchEncoding'>\n",
            "<class 'list'>\n",
            "<class 'list'>\n",
            "<class 'transformers.tokenization_utils_base.BatchEncoding'>\n",
            "<class 'list'>\n",
            "<class 'list'>\n",
            "<class 'transformers.tokenization_utils_base.BatchEncoding'>\n",
            "<class 'list'>\n",
            "<class 'list'>\n",
            "<class 'transformers.tokenization_utils_base.BatchEncoding'>\n",
            "<class 'list'>\n",
            "<class 'list'>\n",
            "<class 'transformers.tokenization_utils_base.BatchEncoding'>\n",
            "<class 'list'>\n",
            "<class 'list'>\n",
            "<class 'list'>\n",
            "<class 'list'>\n",
            "<class 'list'>\n",
            "<class 'list'>\n",
            "[101, 4067, 2017, 2005, 4824, 1012, 1045, 2228, 2200, 3811, 1997, 2017, 1998, 2052, 2025, 7065, 8743, 2302, 6594, 1012, 102, 0, 0, 0, 0, 0, 0, 0, 0, 0, 0, 0, 0, 0, 0, 0, 0, 0, 0, 0, 0, 0, 0, 0, 0, 0, 0, 0, 0, 0, 0, 0, 0, 0, 0, 0, 0, 0, 0, 0, 0, 0, 0, 0, 0, 0, 0, 0, 0, 0, 0, 0, 0, 0, 0, 0, 0, 0, 0, 0, 0, 0, 0, 0, 0, 0, 0, 0, 0, 0, 0, 0, 0, 0, 0, 0, 0, 0, 0, 0, 0, 0, 0, 0, 0, 0, 0, 0, 0, 0, 0, 0, 0, 0, 0, 0, 0, 0, 0, 0, 0, 0, 0, 0, 0, 0, 0, 0]\n",
            "[1, 1, 1, 1, 1, 1, 1, 1, 1, 1, 1, 1, 1, 1, 1, 1, 1, 1, 1, 1, 1, 0, 0, 0, 0, 0, 0, 0, 0, 0, 0, 0, 0, 0, 0, 0, 0, 0, 0, 0, 0, 0, 0, 0, 0, 0, 0, 0, 0, 0, 0, 0, 0, 0, 0, 0, 0, 0, 0, 0, 0, 0, 0, 0, 0, 0, 0, 0, 0, 0, 0, 0, 0, 0, 0, 0, 0, 0, 0, 0, 0, 0, 0, 0, 0, 0, 0, 0, 0, 0, 0, 0, 0, 0, 0, 0, 0, 0, 0, 0, 0, 0, 0, 0, 0, 0, 0, 0, 0, 0, 0, 0, 0, 0, 0, 0, 0, 0, 0, 0, 0, 0, 0, 0, 0, 0, 0, 0]\n"
          ]
        }
      ]
    },
    {
      "cell_type": "code",
      "source": [
        "type(X_test_ids)"
      ],
      "metadata": {
        "colab": {
          "base_uri": "https://localhost:8080/"
        },
        "id": "azmzF1TUlhyY",
        "outputId": "96ab6354-c877-407e-c004-2e606303f3b2"
      },
      "execution_count": null,
      "outputs": [
        {
          "output_type": "execute_result",
          "data": {
            "text/plain": [
              "tensorflow.python.framework.ops.EagerTensor"
            ]
          },
          "metadata": {},
          "execution_count": 14
        }
      ]
    },
    {
      "cell_type": "code",
      "source": [
        "X_test_ids[0]"
      ],
      "metadata": {
        "colab": {
          "base_uri": "https://localhost:8080/"
        },
        "id": "IsaMYiDJqfGj",
        "outputId": "b0aac612-9c8c-47f1-d0fc-9007ccb70a72"
      },
      "execution_count": null,
      "outputs": [
        {
          "output_type": "execute_result",
          "data": {
            "text/plain": [
              "<tf.Tensor: shape=(128,), dtype=int32, numpy=\n",
              "array([ 101, 4067, 2017, 2005, 4824, 1012, 1045, 2228, 2200, 3811, 1997,\n",
              "       2017, 1998, 2052, 2025, 7065, 8743, 2302, 6594, 1012,  102,    0,\n",
              "          0,    0,    0,    0,    0,    0,    0,    0,    0,    0,    0,\n",
              "          0,    0,    0,    0,    0,    0,    0,    0,    0,    0,    0,\n",
              "          0,    0,    0,    0,    0,    0,    0,    0,    0,    0,    0,\n",
              "          0,    0,    0,    0,    0,    0,    0,    0,    0,    0,    0,\n",
              "          0,    0,    0,    0,    0,    0,    0,    0,    0,    0,    0,\n",
              "          0,    0,    0,    0,    0,    0,    0,    0,    0,    0,    0,\n",
              "          0,    0,    0,    0,    0,    0,    0,    0,    0,    0,    0,\n",
              "          0,    0,    0,    0,    0,    0,    0,    0,    0,    0,    0,\n",
              "          0,    0,    0,    0,    0,    0,    0,    0,    0,    0,    0,\n",
              "          0,    0,    0,    0,    0,    0,    0], dtype=int32)>"
            ]
          },
          "metadata": {},
          "execution_count": 15
        }
      ]
    },
    {
      "cell_type": "markdown",
      "metadata": {
        "id": "fp1ohbusHX_J"
      },
      "source": [
        "# *Build Model*\n",
        "---"
      ]
    },
    {
      "cell_type": "code",
      "source": [
        "# Definisi fungsi loss\n",
        "# Kode didapat dari https://gist.github.com/mkocabas/62dcd2f14ad21f3b25eac2d39ec2cc95\n",
        "def focal_loss(gamma=params[\"FL_GAMMA\"], alpha=params[\"FL_ALPHA\"]):\n",
        "    \n",
        "    def focal_loss_fixed(y_true, y_pred):\n",
        "        pt_1 = tf.where(tf.equal(y_true, 1), y_pred, tf.ones_like(y_pred))\n",
        "        pt_0 = tf.where(tf.equal(y_true, 0), y_pred, tf.zeros_like(y_pred))\n",
        "        return -K.mean(alpha * K.pow(1. - pt_1, gamma) * K.log(pt_1)) - K.mean((1 - alpha) * K.pow(pt_0, gamma) * K.log(1. - pt_0))\n",
        "    \n",
        "    return focal_loss_fixed"
      ],
      "metadata": {
        "id": "ADvBcqaAeBI-"
      },
      "execution_count": null,
      "outputs": []
    },
    {
      "cell_type": "code",
      "source": [
        "# Fungsi custom model\n",
        "def build_model(transformer, max_length=params[\"MAX_LENGTH\"]):\n",
        "    \n",
        "    # Definisi bobot\n",
        "    weight_initializer = tf.keras.initializers.GlorotNormal(seed=params[\"RANDOM_STATE\"]) \n",
        "    \n",
        "    # Definisi layers input\n",
        "    input_ids_layer = tf.keras.layers.Input(shape=(max_length,), \n",
        "                                            name=\"input_ids\", \n",
        "                                            dtype=\"int32\",\n",
        "                                            )\n",
        "    input_attention_layer = tf.keras.layers.Input(shape=(max_length,), \n",
        "                                                  name=\"input_attention\", \n",
        "                                                  dtype=\"int32\",\n",
        "                                                  )\n",
        "    # Output model DistilBERT berbentuk tuple dengan elemen di index ke 0 adalah\n",
        "    # representasi hidden-state output dari model layer terakhir\n",
        "    # dengan sebuah tf.Tensor dengan ukuran (batch_size, sequence_length, hidden_size=768).\n",
        "    last_hidden_state = transformer([input_ids_layer, input_attention_layer])[0]\n",
        "    \n",
        "    # Kami akan menggunakan output DistilBERT untuk token [CLS] yang berlokasi di index 0.\n",
        "    # Sehingga kami akan melakukan Splicing token [CLS] yang memberikan sebuah data 2D.\n",
        "    cls_token = last_hidden_state[:, 0, :]\n",
        "    \n",
        "    D1 = tf.keras.layers.Dropout(params[\"LAYER_DROPOUT\"],\n",
        "                                 seed=params[\"RANDOM_STATE\"],\n",
        "                                 name=\"Dropout_1\",\n",
        "                                )(cls_token)\n",
        "    \n",
        "    Dense1 = tf.keras.layers.Dense(256,\n",
        "                                   activation=params[\"DENSE_ACTIVATION\"],\n",
        "                                   kernel_initializer=weight_initializer,\n",
        "                                   bias_initializer=params[\"DENSE_BIAS\"],\n",
        "                                   name=\"Dense_1\",\n",
        "                                  )(D1)\n",
        "    \n",
        "    D2 = tf.keras.layers.Dropout(params[\"LAYER_DROPOUT\"],\n",
        "                                 seed=params[\"RANDOM_STATE\"],\n",
        "                                 name=\"Dropout_2\",\n",
        "                                )(Dense1)\n",
        "    \n",
        "    Dense2 = tf.keras.layers.Dense(128,\n",
        "                                   activation=params[\"DENSE_ACTIVATION\"],\n",
        "                                   kernel_initializer=weight_initializer,\n",
        "                                   bias_initializer=params[\"DENSE_BIAS\"],\n",
        "                                   name=\"Dense_2\",\n",
        "                                  )(D2)\n",
        "    \n",
        "    D3 = tf.keras.layers.Dropout(params[\"LAYER_DROPOUT\"],\n",
        "                                 seed=params[\"RANDOM_STATE\"],\n",
        "                                 name=\"Dropout_3\",\n",
        "                                )(Dense2)\n",
        "\n",
        "    Dense3 = tf.keras.layers.Dense(32,\n",
        "                                   activation=params[\"DENSE_ACTIVATION\"],\n",
        "                                   kernel_initializer=weight_initializer,\n",
        "                                   bias_initializer=params[\"DENSE_BIAS\"],\n",
        "                                   name=\"Dense_3\",\n",
        "                                  )(D3)\n",
        "\n",
        "    D4 = tf.keras.layers.Dropout(params[\"LAYER_DROPOUT\"],\n",
        "                                 seed=params[\"RANDOM_STATE\"],\n",
        "                                 name=\"Dropout_4\",\n",
        "                                )(Dense3)\n",
        "                                \n",
        "    output = tf.keras.layers.Dense(1, \n",
        "                                   activation=params[\"OUTPUT_ACTIVATION\"],\n",
        "                                   kernel_initializer=weight_initializer,\n",
        "                                   bias_initializer=params[\"DENSE_BIAS\"],\n",
        "                                   name=\"Output\",\n",
        "                                  )(D4)\n",
        "    \n",
        "    # Definisi model\n",
        "    model = tf.keras.Model([input_ids_layer, input_attention_layer], output)\n",
        "    \n",
        "    # Compile model\n",
        "    model.compile(tf.keras.optimizers.Adam(learning_rate=params[\"LEARNING_RATE\"]), \n",
        "                  loss=focal_loss(),\n",
        "                  metrics=[\"accuracy\"],\n",
        "                 )\n",
        "    \n",
        "    return model"
      ],
      "metadata": {
        "id": "8JwA-Ur4dkH0"
      },
      "execution_count": null,
      "outputs": []
    },
    {
      "cell_type": "code",
      "source": [
        "# Konfigurasi model DistilBERT\n",
        "config = DistilBertConfig(dropout=params[\"DISTILBERT_DROPOUT\"], \n",
        "                          attention_dropout=params[\"DISTILBERT_ATT_DROPOUT\"], \n",
        "                          output_hidden_states=True,\n",
        "                         )\n",
        "\n",
        "# Inisialisasi model DistilBERT\n",
        "distilBERT = TFDistilBertModel.from_pretrained(\"distilbert-base-uncased\", config=config)\n",
        "\n",
        "# Membekukan layer di model DistilBERT untuk mempertahankan bobot yang telah dilatih sebelumnya\n",
        "for layer in distilBERT.layers:\n",
        "    layer.trainable = False\n",
        "\n",
        "# Build model\n",
        "model = build_model(distilBERT)"
      ],
      "metadata": {
        "colab": {
          "base_uri": "https://localhost:8080/",
          "height": 158,
          "referenced_widgets": [
            "cf0e1ad044484bd1843c9c4a47b21f68",
            "f9f30e411fd24b0382fa6191f54236e3",
            "fb7d05eb12d74157a99a21068802b285",
            "0277ae8704f34be5bf9a424d16d24e6e",
            "444b78a0b29f496495a378b03f1e4586",
            "51d3ce0c963a4356968c6eb3b7fdd594",
            "8b574431b8454079bebd4c29c3ef6429",
            "b2948524e71a4a70b473997abf2c7405",
            "2651ca1193ea48d69a8232585ea9b9b6",
            "8665cf24079b45c5bdccd3517fbbd028",
            "d5b986fc7d02481b90e6658a11e79060"
          ]
        },
        "id": "OKP0D4u2dyeu",
        "outputId": "00117c19-58fe-4871-df3c-f5d9a3c51982"
      },
      "execution_count": null,
      "outputs": [
        {
          "output_type": "display_data",
          "data": {
            "text/plain": [
              "Downloading tf_model.h5:   0%|          | 0.00/363M [00:00<?, ?B/s]"
            ],
            "application/vnd.jupyter.widget-view+json": {
              "version_major": 2,
              "version_minor": 0,
              "model_id": "cf0e1ad044484bd1843c9c4a47b21f68"
            }
          },
          "metadata": {}
        },
        {
          "output_type": "stream",
          "name": "stderr",
          "text": [
            "Some layers from the model checkpoint at distilbert-base-uncased were not used when initializing TFDistilBertModel: ['activation_13', 'vocab_projector', 'vocab_transform', 'vocab_layer_norm']\n",
            "- This IS expected if you are initializing TFDistilBertModel from the checkpoint of a model trained on another task or with another architecture (e.g. initializing a BertForSequenceClassification model from a BertForPreTraining model).\n",
            "- This IS NOT expected if you are initializing TFDistilBertModel from the checkpoint of a model that you expect to be exactly identical (initializing a BertForSequenceClassification model from a BertForSequenceClassification model).\n",
            "All the layers of TFDistilBertModel were initialized from the model checkpoint at distilbert-base-uncased.\n",
            "If your task is similar to the task the model of the checkpoint was trained on, you can already use TFDistilBertModel for predictions without further training.\n"
          ]
        }
      ]
    },
    {
      "cell_type": "code",
      "source": [
        "# Training model\n",
        "train_history = model.fit(\n",
        "    x = [X_train_ids, X_train_attention],\n",
        "    y = y_train.to_numpy(),\n",
        "    epochs = params[\"EPOCHS\"],\n",
        "    batch_size = params[\"BATCH_SIZE\"],\n",
        "    steps_per_epoch = params[\"NUM_STEPS\"],\n",
        "    validation_data = ([X_valid_ids, X_valid_attention], y_valid.to_numpy()),\n",
        "    verbose=params[\"VERBOSE\"],\n",
        ")"
      ],
      "metadata": {
        "colab": {
          "base_uri": "https://localhost:8080/"
        },
        "id": "PZ2WAdxzdyVT",
        "outputId": "5d077231-336b-4e52-e9fb-1925a01cd1d7"
      },
      "execution_count": null,
      "outputs": [
        {
          "output_type": "stream",
          "name": "stdout",
          "text": [
            "Epoch 1/10\n",
            "1522/1522 - 523s - loss: 0.0657 - accuracy: 0.6492 - val_loss: 0.0349 - val_accuracy: 0.7810 - 523s/epoch - 344ms/step\n",
            "Epoch 2/10\n",
            "1522/1522 - 515s - loss: 0.0434 - accuracy: 0.7687 - val_loss: 0.0335 - val_accuracy: 0.8094 - 515s/epoch - 338ms/step\n",
            "Epoch 3/10\n",
            "1522/1522 - 514s - loss: 0.0398 - accuracy: 0.7905 - val_loss: 0.0341 - val_accuracy: 0.8052 - 514s/epoch - 338ms/step\n",
            "Epoch 4/10\n",
            "1522/1522 - 514s - loss: 0.0378 - accuracy: 0.7987 - val_loss: 0.0340 - val_accuracy: 0.8067 - 514s/epoch - 338ms/step\n",
            "Epoch 5/10\n",
            "1522/1522 - 514s - loss: 0.0370 - accuracy: 0.8031 - val_loss: 0.0336 - val_accuracy: 0.8069 - 514s/epoch - 338ms/step\n",
            "Epoch 6/10\n",
            "1522/1522 - 514s - loss: 0.0359 - accuracy: 0.8087 - val_loss: 0.0334 - val_accuracy: 0.8066 - 514s/epoch - 338ms/step\n",
            "Epoch 7/10\n",
            "1522/1522 - 514s - loss: 0.0356 - accuracy: 0.8070 - val_loss: 0.0340 - val_accuracy: 0.8021 - 514s/epoch - 338ms/step\n",
            "Epoch 8/10\n",
            "1522/1522 - 514s - loss: 0.0350 - accuracy: 0.8099 - val_loss: 0.0315 - val_accuracy: 0.8173 - 514s/epoch - 338ms/step\n",
            "Epoch 9/10\n",
            "1522/1522 - 514s - loss: 0.0342 - accuracy: 0.8118 - val_loss: 0.0315 - val_accuracy: 0.8189 - 514s/epoch - 338ms/step\n",
            "Epoch 10/10\n",
            "1522/1522 - 514s - loss: 0.0339 - accuracy: 0.8157 - val_loss: 0.0316 - val_accuracy: 0.8153 - 514s/epoch - 338ms/step\n"
          ]
        }
      ]
    },
    {
      "cell_type": "markdown",
      "metadata": {
        "id": "IVPoMZddJDM6"
      },
      "source": [
        "# *Fine-Tuning*\n",
        "---"
      ]
    },
    {
      "cell_type": "code",
      "source": [
        "# Membuka bobot layer model DistilBERT untuk dilakukan fine-tuning\n",
        "for layer in distilBERT.layers:\n",
        "    layer.trainable = True\n",
        "\n",
        "# Definisi optimizer untuk fine-tuning\n",
        "optimizer = tf.keras.optimizers.Adam(learning_rate=params[\"FT_LEARNING_RATE\"])\n",
        "\n",
        "# Compile model\n",
        "model.compile(optimizer=optimizer, \n",
        "              loss=focal_loss(),\n",
        "              metrics=[\"accuracy\"],\n",
        "             )"
      ],
      "metadata": {
        "id": "CbGA7YBangco"
      },
      "execution_count": null,
      "outputs": []
    },
    {
      "cell_type": "code",
      "source": [
        "# Fine-tuning model\n",
        "finetuning_history = model.fit(\n",
        "    x = [X_train_ids, X_train_attention],\n",
        "    y = y_train.to_numpy(),\n",
        "    epochs = params[\"FT_EPOCHS\"],\n",
        "    batch_size = params[\"BATCH_SIZE\"],\n",
        "    steps_per_epoch = params[\"NUM_STEPS\"],\n",
        "    validation_data = ([X_valid_ids, X_valid_attention], y_valid.to_numpy()),\n",
        "    verbose=params[\"VERBOSE\"],\n",
        ")"
      ],
      "metadata": {
        "colab": {
          "base_uri": "https://localhost:8080/"
        },
        "id": "5Hm_NVFy1Lks",
        "outputId": "352de833-a706-4c0e-c447-6638f970d550"
      },
      "execution_count": null,
      "outputs": [
        {
          "output_type": "stream",
          "name": "stdout",
          "text": [
            "Epoch 1/5\n",
            "1522/1522 - 1256s - loss: 0.0287 - accuracy: 0.8504 - val_loss: 0.0243 - val_accuracy: 0.8746 - 1256s/epoch - 825ms/step\n",
            "Epoch 2/5\n",
            "1522/1522 - 1231s - loss: 0.0241 - accuracy: 0.8772 - val_loss: 0.0215 - val_accuracy: 0.8998 - 1231s/epoch - 809ms/step\n",
            "Epoch 3/5\n",
            "1522/1522 - 1231s - loss: 0.0223 - accuracy: 0.8876 - val_loss: 0.0206 - val_accuracy: 0.9056 - 1231s/epoch - 809ms/step\n",
            "Epoch 4/5\n",
            "1522/1522 - 1229s - loss: 0.0209 - accuracy: 0.8944 - val_loss: 0.0200 - val_accuracy: 0.9108 - 1229s/epoch - 808ms/step\n",
            "Epoch 5/5\n",
            "1522/1522 - 1230s - loss: 0.0199 - accuracy: 0.9003 - val_loss: 0.0189 - val_accuracy: 0.9139 - 1230s/epoch - 808ms/step\n"
          ]
        }
      ]
    },
    {
      "cell_type": "markdown",
      "metadata": {
        "id": "cpSjlum0JsNA"
      },
      "source": [
        "# *Evaluation*\n",
        "---"
      ]
    },
    {
      "cell_type": "code",
      "source": [
        "# Evaluasi\n",
        "eval_loss, eval_accuracy = model.evaluate([X_test_ids, X_test_attention],\n",
        "                                          y_test.to_numpy(),\n",
        "                                          batch_size=params[\"BATCH_SIZE\"],\n",
        "                                          verbose=params[\"VERBOSE\"],\n",
        "                                         )\n",
        "print(\"Loss:\", eval_loss)\n",
        "print(\"Accuracy:\", eval_accuracy)"
      ],
      "metadata": {
        "colab": {
          "base_uri": "https://localhost:8080/"
        },
        "id": "9Y0PpG3M6jQx",
        "outputId": "29968f34-d316-4183-c776-2cac9fe722e6"
      },
      "execution_count": null,
      "outputs": [
        {
          "output_type": "stream",
          "name": "stdout",
          "text": [
            "1000/1000 - 262s - loss: 0.0601 - accuracy: 0.8995 - 262s/epoch - 262ms/step\n",
            "Loss: 0.06012924388051033\n",
            "Accuracy: 0.8995435833930969\n"
          ]
        }
      ]
    },
    {
      "cell_type": "markdown",
      "source": [
        "# *Prediction*\n",
        "----"
      ],
      "metadata": {
        "id": "abis4qYe2Ulg"
      }
    },
    {
      "cell_type": "code",
      "source": [
        "# Cek salah satu nilai prediksi\n",
        "print(\"Nilai token X ids:\")\n",
        "print(X_test_ids[20:40])\n",
        "print(\"Nilai token X attention:\")\n",
        "print(X_test_attention[20:40])\n",
        "print(\"Nilai y:\")\n",
        "print(y_test.to_numpy()[20:40])"
      ],
      "metadata": {
        "colab": {
          "base_uri": "https://localhost:8080/"
        },
        "id": "eDlA4h4c5R8F",
        "outputId": "bad5a8a0-ef30-486e-84b1-f51659937ee8"
      },
      "execution_count": null,
      "outputs": [
        {
          "output_type": "stream",
          "name": "stdout",
          "text": [
            "Nilai token X ids:\n",
            "tf.Tensor(\n",
            "[[ 101 1000 1027 ... 2019 5448  102]\n",
            " [ 101 1027 1027 ...    0    0    0]\n",
            " [ 101 1045 1005 ...    0    0    0]\n",
            " ...\n",
            " [ 101 1000 1024 ...    0    0    0]\n",
            " [ 101 2129 8108 ...    0    0    0]\n",
            " [ 101 9779 2361 ...    0    0    0]], shape=(20, 128), dtype=int32)\n",
            "Nilai token X attention:\n",
            "tf.Tensor(\n",
            "[[1 1 1 ... 1 1 1]\n",
            " [1 1 1 ... 0 0 0]\n",
            " [1 1 1 ... 0 0 0]\n",
            " ...\n",
            " [1 1 1 ... 0 0 0]\n",
            " [1 1 1 ... 0 0 0]\n",
            " [1 1 1 ... 0 0 0]], shape=(20, 128), dtype=int32)\n",
            "Nilai y:\n",
            "[0 0 0 0 1 0 0 0 0 1 0 0 0 0 0 0 0 0 1 0]\n"
          ]
        }
      ]
    },
    {
      "cell_type": "code",
      "source": [
        "# Prediksi\n",
        "pred = model.predict([X_test_ids[20:40], X_test_attention[20:40]])\n",
        "print(\"Probabilitas prediksi:\", pred)\n",
        "classes = np.where(pred >= params[\"POS_PROBA_THRESHOLD\"], 1, 0)\n",
        "print(\"Hasil prediksi di kelas: \", classes)"
      ],
      "metadata": {
        "colab": {
          "base_uri": "https://localhost:8080/"
        },
        "id": "71MUBW1S5zCY",
        "outputId": "0f011366-f4c6-4614-a8a1-f383a96f494a"
      },
      "execution_count": null,
      "outputs": [
        {
          "output_type": "stream",
          "name": "stdout",
          "text": [
            "1/1 [==============================] - 0s 142ms/step\n",
            "Probabilitas prediksi: [[0.07685834]\n",
            " [0.04424284]\n",
            " [0.13353974]\n",
            " [0.03680823]\n",
            " [0.95064515]\n",
            " [0.04203176]\n",
            " [0.04443111]\n",
            " [0.91311663]\n",
            " [0.05126998]\n",
            " [0.955203  ]\n",
            " [0.20657456]\n",
            " [0.07655811]\n",
            " [0.20705996]\n",
            " [0.08667107]\n",
            " [0.08031459]\n",
            " [0.04804233]\n",
            " [0.06772026]\n",
            " [0.30448115]\n",
            " [0.8070159 ]\n",
            " [0.28049725]]\n",
            "Hasil prediksi di kelas:  [[0]\n",
            " [0]\n",
            " [0]\n",
            " [0]\n",
            " [1]\n",
            " [0]\n",
            " [0]\n",
            " [1]\n",
            " [0]\n",
            " [1]\n",
            " [0]\n",
            " [0]\n",
            " [0]\n",
            " [0]\n",
            " [0]\n",
            " [0]\n",
            " [0]\n",
            " [0]\n",
            " [1]\n",
            " [0]]\n"
          ]
        }
      ]
    },
    {
      "cell_type": "markdown",
      "source": [
        "# *Evaluation visualization*\n",
        "---"
      ],
      "metadata": {
        "id": "Fxit5Fdk2F1E"
      }
    },
    {
      "cell_type": "code",
      "source": [
        "# Membuat dataset history\n",
        "history_train = pd.DataFrame(train_history.history)\n",
        "history_finetuning = pd.DataFrame(finetuning_history.history)\n",
        "history = pd.concat([history_train, history_finetuning], ignore_index=True)"
      ],
      "metadata": {
        "id": "G_u0tUfw4JY5"
      },
      "execution_count": null,
      "outputs": []
    },
    {
      "cell_type": "code",
      "source": [
        "# Ploting loss training dan validation setiap epoch\n",
        "history.loc[:, [\"loss\", \"val_loss\"]].plot()\n",
        "plt.title(label=\"Training and Validation Loss\", fontsize=17, pad=19)\n",
        "plt.xlabel(\"Epoch\", labelpad=14, fontsize=14)\n",
        "plt.ylabel(\"Focal Loss\", labelpad=16, fontsize=14)\n",
        "print(\"Minimal Train Loss: {:0.4f}\".format(history[\"loss\"].min()))\n",
        "print(\"Minimal Validation Loss: {:0.4f}\".format(history[\"val_loss\"].min()))\n",
        "\n",
        "# Menyimpan gambar\n",
        "plt.savefig(\"balanced_trainvalloss.png\", dpi=300.0, transparent=True)"
      ],
      "metadata": {
        "colab": {
          "base_uri": "https://localhost:8080/",
          "height": 550
        },
        "id": "8He2-wTuT6TU",
        "outputId": "97eaa427-0f5d-47b8-89a6-626a3f718f26"
      },
      "execution_count": null,
      "outputs": [
        {
          "output_type": "stream",
          "name": "stdout",
          "text": [
            "Minimal Train Loss: 0.0199\n",
            "Minimal Validation Loss: 0.0189\n"
          ]
        },
        {
          "output_type": "display_data",
          "data": {
            "text/plain": [
              "<Figure size 640x480 with 1 Axes>"
            ],
            "image/png": "[encoded data removed]"
          },
          "metadata": {}
        }
      ]
    },
    {
      "cell_type": "code",
      "source": [
        "# Ploting accuracy training dan validation setiap epoch\n",
        "history.loc[:, [\"accuracy\", \"val_accuracy\"]].plot()\n",
        "plt.title(label=\"Training and Validation Accuracy\", fontsize=17, pad=19)\n",
        "plt.xlabel(\"Epoch\", labelpad=14, fontsize=14)\n",
        "plt.ylabel(\"Accuracy\", labelpad=16, fontsize=14)\n",
        "print(\"Maksimal Train Accuracy: {:0.4f}\".format(history[\"accuracy\"].max()))\n",
        "print(\"Maksimal Validation Accuracy: {:0.4f}\".format(history[\"val_accuracy\"].max()))\n",
        "\n",
        "# Menyimpan gambar\n",
        "plt.savefig(\"balanced_trainvalacc.png\", dpi=300.0, transparent=True)"
      ],
      "metadata": {
        "colab": {
          "base_uri": "https://localhost:8080/",
          "height": 550
        },
        "id": "m0QvDSb63qmj",
        "outputId": "5a756a99-8961-4618-92a9-c30482a125fe"
      },
      "execution_count": null,
      "outputs": [
        {
          "output_type": "stream",
          "name": "stdout",
          "text": [
            "Maksimal Train Accuracy: 0.9003\n",
            "Maksimal Validation Accuracy: 0.9139\n"
          ]
        },
        {
          "output_type": "display_data",
          "data": {
            "text/plain": [
              "<Figure size 640x480 with 1 Axes>"
            ],
            "image/png": "[encoded data removed]"
          },
          "metadata": {}
        }
      ]
    },
    {
      "cell_type": "code",
      "source": [
        "# Prediksi dataset test\n",
        "y_pred = model.predict([X_test_ids, X_test_attention])\n",
        "y_pred_thresh = np.where(y_pred >= params[\"POS_PROBA_THRESHOLD\"], 1, 0)\n",
        "\n",
        "# Plot confusion matrix\n",
        "skplt.metrics.plot_confusion_matrix(y_test.to_list(),\n",
        "                                    y_pred_thresh.tolist(),\n",
        "                                    figsize=(6, 6),\n",
        "                                    text_fontsize=14,\n",
        "                                   )\n",
        "plt.title(label=\"Test Confusion Matrix\", fontsize=20, pad=17)\n",
        "plt.xlabel(\"Predicted Label\", labelpad=14)\n",
        "plt.ylabel(\"True Label\", labelpad=14)\n",
        "\n",
        "# Menyimpan gambar\n",
        "plt.savefig(\"balanced_confusion_matrix.png\", dpi=300.0, transparent=True)"
      ],
      "metadata": {
        "colab": {
          "base_uri": "https://localhost:8080/",
          "height": 539
        },
        "id": "NDxfKLvFT-Uc",
        "outputId": "74ecf6b6-30b5-4171-e7d7-e4d8618214c6"
      },
      "execution_count": null,
      "outputs": [
        {
          "output_type": "stream",
          "name": "stdout",
          "text": [
            "2000/2000 [==============================] - 264s 132ms/step\n"
          ]
        },
        {
          "output_type": "display_data",
          "data": {
            "text/plain": [
              "<Figure size 600x600 with 2 Axes>"
            ],
            "image/png": "[encoded data removed]"
          },
          "metadata": {}
        }
      ]
    },
    {
      "cell_type": "markdown",
      "metadata": {
        "id": "7GCEZEi-MkdQ"
      },
      "source": [
        "# *Saving Model*\n",
        "---"
      ]
    },
    {
      "cell_type": "code",
      "source": [
        "tf.saved_model.save(model, \"balanced_model.h5\")"
      ],
      "metadata": {
        "colab": {
          "base_uri": "https://localhost:8080/"
        },
        "id": "srvMf04kpUfC",
        "outputId": "3ed25ec7-0f1f-4db5-9905-dca8f7ee6f46"
      },
      "execution_count": null,
      "outputs": [
        {
          "output_type": "stream",
          "name": "stderr",
          "text": [
            "WARNING:tensorflow:Skipping full serialization of Keras layer <keras.layers.regularization.dropout.Dropout object at 0x7fc900002670>, because it is not built.\n",
            "WARNING:tensorflow:Skipping full serialization of Keras layer <keras.layers.regularization.dropout.Dropout object at 0x7fc8ffe50610>, because it is not built.\n",
            "WARNING:tensorflow:Skipping full serialization of Keras layer <keras.layers.regularization.dropout.Dropout object at 0x7fc90034d5b0>, because it is not built.\n",
            "WARNING:tensorflow:Skipping full serialization of Keras layer <keras.layers.regularization.dropout.Dropout object at 0x7fc900358550>, because it is not built.\n",
            "WARNING:tensorflow:Skipping full serialization of Keras layer <keras.layers.regularization.dropout.Dropout object at 0x7fc9003604f0>, because it is not built.\n",
            "WARNING:tensorflow:Skipping full serialization of Keras layer <keras.layers.regularization.dropout.Dropout object at 0x7fc900369490>, because it is not built.\n",
            "WARNING:absl:Found untraced functions such as embeddings_layer_call_fn, embeddings_layer_call_and_return_conditional_losses, transformer_layer_call_fn, transformer_layer_call_and_return_conditional_losses, LayerNorm_layer_call_fn while saving (showing 5 of 164). These functions will not be directly callable after loading.\n"
          ]
        }
      ]
    },
    {
      "cell_type": "code",
      "source": [
        "model.save_weights(\"model_balance\")"
      ],
      "metadata": {
        "id": "Ec87ZE9-tyHq"
      },
      "execution_count": null,
      "outputs": []
    },
    {
      "cell_type": "code",
      "source": [
        "import pickle\n",
        "\n",
        "pickle.dump(model, open('model.pkl', 'wb'))"
      ],
      "metadata": {
        "colab": {
          "base_uri": "https://localhost:8080/"
        },
        "id": "67gswN7Ju1-t",
        "outputId": "4758cd9d-4edb-4178-a781-5a2ca58ddc5a"
      },
      "execution_count": null,
      "outputs": [
        {
          "output_type": "stream",
          "name": "stderr",
          "text": [
            "/usr/local/lib/python3.9/dist-packages/transformers/generation/tf_utils.py:465: UserWarning: `seed_generator` is deprecated and will be removed in a future version.\n",
            "  warnings.warn(\"`seed_generator` is deprecated and will be removed in a future version.\", UserWarning)\n"
          ]
        }
      ]
    },
    {
      "cell_type": "code",
      "source": [
        "model.save(\"balanced_model2.h5\")"
      ],
      "metadata": {
        "id": "WdwGI3pxyO_I"
      },
      "execution_count": null,
      "outputs": []
    },
    {
      "cell_type": "code",
      "source": [
        "import pickle\n",
        "\n",
        "# saving\n",
        "with open('tokenizer.pickle', 'wb') as handle:\n",
        "    pickle.dump(tokenizer, handle, protocol=pickle.HIGHEST_PROTOCOL)\n",
        "\n",
        "# loading\n",
        "with open('tokenizer.pickle', 'rb') as handle:\n",
        "    tokenizer = pickle.load(handle)"
      ],
      "metadata": {
        "id": "_9xcKC3OzLR0"
      },
      "execution_count": null,
      "outputs": []
    }
  ],
  "metadata": {
    "accelerator": "GPU",
    "colab": {
      "machine_shape": "hm",
      "provenance": []
    },
    "gpuClass": "standard",
    "kernelspec": {
      "display_name": "Python 3",
      "name": "python3"
    },
    "language_info": {
      "name": "python"
    },
    "widgets": {
      "application/vnd.jupyter.widget-state+json": {
        "cf0e1ad044484bd1843c9c4a47b21f68": {
          "model_module": "@jupyter-widgets/controls",
          "model_name": "HBoxModel",
          "model_module_version": "1.5.0",
          "state": {
            "_dom_classes": [],
            "_model_module": "@jupyter-widgets/controls",
            "_model_module_version": "1.5.0",
            "_model_name": "HBoxModel",
            "_view_count": null,
            "_view_module": "@jupyter-widgets/controls",
            "_view_module_version": "1.5.0",
            "_view_name": "HBoxView",
            "box_style": "",
            "children": [
              "IPY_MODEL_f9f30e411fd24b0382fa6191f54236e3",
              "IPY_MODEL_fb7d05eb12d74157a99a21068802b285",
              "IPY_MODEL_0277ae8704f34be5bf9a424d16d24e6e"
            ],
            "layout": "IPY_MODEL_444b78a0b29f496495a378b03f1e4586"
          }
        },
        "f9f30e411fd24b0382fa6191f54236e3": {
          "model_module": "@jupyter-widgets/controls",
          "model_name": "HTMLModel",
          "model_module_version": "1.5.0",
          "state": {
            "_dom_classes": [],
            "_model_module": "@jupyter-widgets/controls",
            "_model_module_version": "1.5.0",
            "_model_name": "HTMLModel",
            "_view_count": null,
            "_view_module": "@jupyter-widgets/controls",
            "_view_module_version": "1.5.0",
            "_view_name": "HTMLView",
            "description": "",
            "description_tooltip": null,
            "layout": "IPY_MODEL_51d3ce0c963a4356968c6eb3b7fdd594",
            "placeholder": "​",
            "style": "IPY_MODEL_8b574431b8454079bebd4c29c3ef6429",
            "value": "Downloading tf_model.h5: 100%"
          }
        },
        "fb7d05eb12d74157a99a21068802b285": {
          "model_module": "@jupyter-widgets/controls",
          "model_name": "FloatProgressModel",
          "model_module_version": "1.5.0",
          "state": {
            "_dom_classes": [],
            "_model_module": "@jupyter-widgets/controls",
            "_model_module_version": "1.5.0",
            "_model_name": "FloatProgressModel",
            "_view_count": null,
            "_view_module": "@jupyter-widgets/controls",
            "_view_module_version": "1.5.0",
            "_view_name": "ProgressView",
            "bar_style": "success",
            "description": "",
            "description_tooltip": null,
            "layout": "IPY_MODEL_b2948524e71a4a70b473997abf2c7405",
            "max": 363423424,
            "min": 0,
            "orientation": "horizontal",
            "style": "IPY_MODEL_2651ca1193ea48d69a8232585ea9b9b6",
            "value": 363423424
          }
        },
        "0277ae8704f34be5bf9a424d16d24e6e": {
          "model_module": "@jupyter-widgets/controls",
          "model_name": "HTMLModel",
          "model_module_version": "1.5.0",
          "state": {
            "_dom_classes": [],
            "_model_module": "@jupyter-widgets/controls",
            "_model_module_version": "1.5.0",
            "_model_name": "HTMLModel",
            "_view_count": null,
            "_view_module": "@jupyter-widgets/controls",
            "_view_module_version": "1.5.0",
            "_view_name": "HTMLView",
            "description": "",
            "description_tooltip": null,
            "layout": "IPY_MODEL_8665cf24079b45c5bdccd3517fbbd028",
            "placeholder": "​",
            "style": "IPY_MODEL_d5b986fc7d02481b90e6658a11e79060",
            "value": " 363M/363M [00:03&lt;00:00, 131MB/s]"
          }
        },
        "444b78a0b29f496495a378b03f1e4586": {
          "model_module": "@jupyter-widgets/base",
          "model_name": "LayoutModel",
          "model_module_version": "1.2.0",
          "state": {
            "_model_module": "@jupyter-widgets/base",
            "_model_module_version": "1.2.0",
            "_model_name": "LayoutModel",
            "_view_count": null,
            "_view_module": "@jupyter-widgets/base",
            "_view_module_version": "1.2.0",
            "_view_name": "LayoutView",
            "align_content": null,
            "align_items": null,
            "align_self": null,
            "border": null,
            "bottom": null,
            "display": null,
            "flex": null,
            "flex_flow": null,
            "grid_area": null,
            "grid_auto_columns": null,
            "grid_auto_flow": null,
            "grid_auto_rows": null,
            "grid_column": null,
            "grid_gap": null,
            "grid_row": null,
            "grid_template_areas": null,
            "grid_template_columns": null,
            "grid_template_rows": null,
            "height": null,
            "justify_content": null,
            "justify_items": null,
            "left": null,
            "margin": null,
            "max_height": null,
            "max_width": null,
            "min_height": null,
            "min_width": null,
            "object_fit": null,
            "object_position": null,
            "order": null,
            "overflow": null,
            "overflow_x": null,
            "overflow_y": null,
            "padding": null,
            "right": null,
            "top": null,
            "visibility": null,
            "width": null
          }
        },
        "51d3ce0c963a4356968c6eb3b7fdd594": {
          "model_module": "@jupyter-widgets/base",
          "model_name": "LayoutModel",
          "model_module_version": "1.2.0",
          "state": {
            "_model_module": "@jupyter-widgets/base",
            "_model_module_version": "1.2.0",
            "_model_name": "LayoutModel",
            "_view_count": null,
            "_view_module": "@jupyter-widgets/base",
            "_view_module_version": "1.2.0",
            "_view_name": "LayoutView",
            "align_content": null,
            "align_items": null,
            "align_self": null,
            "border": null,
            "bottom": null,
            "display": null,
            "flex": null,
            "flex_flow": null,
            "grid_area": null,
            "grid_auto_columns": null,
            "grid_auto_flow": null,
            "grid_auto_rows": null,
            "grid_column": null,
            "grid_gap": null,
            "grid_row": null,
            "grid_template_areas": null,
            "grid_template_columns": null,
            "grid_template_rows": null,
            "height": null,
            "justify_content": null,
            "justify_items": null,
            "left": null,
            "margin": null,
            "max_height": null,
            "max_width": null,
            "min_height": null,
            "min_width": null,
            "object_fit": null,
            "object_position": null,
            "order": null,
            "overflow": null,
            "overflow_x": null,
            "overflow_y": null,
            "padding": null,
            "right": null,
            "top": null,
            "visibility": null,
            "width": null
          }
        },
        "8b574431b8454079bebd4c29c3ef6429": {
          "model_module": "@jupyter-widgets/controls",
          "model_name": "DescriptionStyleModel",
          "model_module_version": "1.5.0",
          "state": {
            "_model_module": "@jupyter-widgets/controls",
            "_model_module_version": "1.5.0",
            "_model_name": "DescriptionStyleModel",
            "_view_count": null,
            "_view_module": "@jupyter-widgets/base",
            "_view_module_version": "1.2.0",
            "_view_name": "StyleView",
            "description_width": ""
          }
        },
        "b2948524e71a4a70b473997abf2c7405": {
          "model_module": "@jupyter-widgets/base",
          "model_name": "LayoutModel",
          "model_module_version": "1.2.0",
          "state": {
            "_model_module": "@jupyter-widgets/base",
            "_model_module_version": "1.2.0",
            "_model_name": "LayoutModel",
            "_view_count": null,
            "_view_module": "@jupyter-widgets/base",
            "_view_module_version": "1.2.0",
            "_view_name": "LayoutView",
            "align_content": null,
            "align_items": null,
            "align_self": null,
            "border": null,
            "bottom": null,
            "display": null,
            "flex": null,
            "flex_flow": null,
            "grid_area": null,
            "grid_auto_columns": null,
            "grid_auto_flow": null,
            "grid_auto_rows": null,
            "grid_column": null,
            "grid_gap": null,
            "grid_row": null,
            "grid_template_areas": null,
            "grid_template_columns": null,
            "grid_template_rows": null,
            "height": null,
            "justify_content": null,
            "justify_items": null,
            "left": null,
            "margin": null,
            "max_height": null,
            "max_width": null,
            "min_height": null,
            "min_width": null,
            "object_fit": null,
            "object_position": null,
            "order": null,
            "overflow": null,
            "overflow_x": null,
            "overflow_y": null,
            "padding": null,
            "right": null,
            "top": null,
            "visibility": null,
            "width": null
          }
        },
        "2651ca1193ea48d69a8232585ea9b9b6": {
          "model_module": "@jupyter-widgets/controls",
          "model_name": "ProgressStyleModel",
          "model_module_version": "1.5.0",
          "state": {
            "_model_module": "@jupyter-widgets/controls",
            "_model_module_version": "1.5.0",
            "_model_name": "ProgressStyleModel",
            "_view_count": null,
            "_view_module": "@jupyter-widgets/base",
            "_view_module_version": "1.2.0",
            "_view_name": "StyleView",
            "bar_color": null,
            "description_width": ""
          }
        },
        "8665cf24079b45c5bdccd3517fbbd028": {
          "model_module": "@jupyter-widgets/base",
          "model_name": "LayoutModel",
          "model_module_version": "1.2.0",
          "state": {
            "_model_module": "@jupyter-widgets/base",
            "_model_module_version": "1.2.0",
            "_model_name": "LayoutModel",
            "_view_count": null,
            "_view_module": "@jupyter-widgets/base",
            "_view_module_version": "1.2.0",
            "_view_name": "LayoutView",
            "align_content": null,
            "align_items": null,
            "align_self": null,
            "border": null,
            "bottom": null,
            "display": null,
            "flex": null,
            "flex_flow": null,
            "grid_area": null,
            "grid_auto_columns": null,
            "grid_auto_flow": null,
            "grid_auto_rows": null,
            "grid_column": null,
            "grid_gap": null,
            "grid_row": null,
            "grid_template_areas": null,
            "grid_template_columns": null,
            "grid_template_rows": null,
            "height": null,
            "justify_content": null,
            "justify_items": null,
            "left": null,
            "margin": null,
            "max_height": null,
            "max_width": null,
            "min_height": null,
            "min_width": null,
            "object_fit": null,
            "object_position": null,
            "order": null,
            "overflow": null,
            "overflow_x": null,
            "overflow_y": null,
            "padding": null,
            "right": null,
            "top": null,
            "visibility": null,
            "width": null
          }
        },
        "d5b986fc7d02481b90e6658a11e79060": {
          "model_module": "@jupyter-widgets/controls",
          "model_name": "DescriptionStyleModel",
          "model_module_version": "1.5.0",
          "state": {
            "_model_module": "@jupyter-widgets/controls",
            "_model_module_version": "1.5.0",
            "_model_name": "DescriptionStyleModel",
            "_view_count": null,
            "_view_module": "@jupyter-widgets/base",
            "_view_module_version": "1.2.0",
            "_view_name": "StyleView",
            "description_width": ""
          }
        }
      }
    }
  },
  "nbformat": 4,
  "nbformat_minor": 0
}